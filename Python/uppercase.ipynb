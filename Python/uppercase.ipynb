{
 "cells": [
  {
   "cell_type": "code",
   "execution_count": 5,
   "id": "174948c6",
   "metadata": {},
   "outputs": [
    {
     "name": "stdout",
     "output_type": "stream",
     "text": [
      "The quick brown fox jumps over the lazy dog .\n",
      "THE QUICK BROWN FOX JUMPS OVER THE LAZY DOG.\n",
      ".god yzal eht revo spmuj xof nworb kciuq ehT\n"
     ]
    }
   ],
   "source": [
    "save_the_sentence = \"The!quick!brown!fox!jumps!over!the!lazy!dog!.\"\n",
    "print(save_the_sentence.replace(\"!\",\" \"))\n",
    "\n",
    "sentence = \"The quick brown fox jumps over the lazy dog.\"\n",
    "print(sentence.upper())\n",
    "sentence_reverse = sentence\n",
    "print(sentence_reverse[-1::-1])"
   ]
  },
  {
   "cell_type": "code",
   "execution_count": null,
   "id": "2c34fa1c",
   "metadata": {},
   "outputs": [],
   "source": []
  }
 ],
 "metadata": {
  "kernelspec": {
   "display_name": "Python 3 (ipykernel)",
   "language": "python",
   "name": "python3"
  },
  "language_info": {
   "codemirror_mode": {
    "name": "ipython",
    "version": 3
   },
   "file_extension": ".py",
   "mimetype": "text/x-python",
   "name": "python",
   "nbconvert_exporter": "python",
   "pygments_lexer": "ipython3",
   "version": "3.9.12"
  }
 },
 "nbformat": 4,
 "nbformat_minor": 5
}
