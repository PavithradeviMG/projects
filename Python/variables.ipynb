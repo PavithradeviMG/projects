{
 "cells": [
  {
   "cell_type": "code",
   "execution_count": 4,
   "id": "257eede3",
   "metadata": {},
   "outputs": [],
   "source": [
    "price_list = [24,37.5,None,'DISCOUNT' ]"
   ]
  },
  {
   "cell_type": "code",
   "execution_count": 5,
   "id": "0c18d51b",
   "metadata": {},
   "outputs": [
    {
     "name": "stdout",
     "output_type": "stream",
     "text": [
      "[24, 37.5, None, 'DISCOUNT']\n"
     ]
    }
   ],
   "source": [
    "print_price_list = print(price_list)"
   ]
  },
  {
   "cell_type": "code",
   "execution_count": 6,
   "id": "0e684633",
   "metadata": {},
   "outputs": [
    {
     "data": {
      "text/plain": [
       "[24, 37.5, None, 'DISCOUNT']"
      ]
     },
     "execution_count": 6,
     "metadata": {},
     "output_type": "execute_result"
    }
   ],
   "source": [
    "price_list"
   ]
  },
  {
   "cell_type": "code",
   "execution_count": 7,
   "id": "545bad7b",
   "metadata": {},
   "outputs": [
    {
     "name": "stdout",
     "output_type": "stream",
     "text": [
      "[24, 37.5, None, 'DISCOUNT']\n"
     ]
    }
   ],
   "source": [
    "print_price_list = print(price_list)"
   ]
  },
  {
   "cell_type": "code",
   "execution_count": 8,
   "id": "89ad6f78",
   "metadata": {},
   "outputs": [
    {
     "data": {
      "text/plain": [
       "list"
      ]
     },
     "execution_count": 8,
     "metadata": {},
     "output_type": "execute_result"
    }
   ],
   "source": [
    "price_list_type = type(price_list)\n",
    "price_list_type"
   ]
  },
  {
   "cell_type": "code",
   "execution_count": 9,
   "id": "683bbc30",
   "metadata": {},
   "outputs": [
    {
     "name": "stdout",
     "output_type": "stream",
     "text": [
      "9\n"
     ]
    }
   ],
   "source": [
    "price = 7\n",
    "tax = 2\n",
    "total = (price+tax)\n",
    "print(total)"
   ]
  },
  {
   "cell_type": "code",
   "execution_count": 10,
   "id": "9f62c6d1",
   "metadata": {},
   "outputs": [],
   "source": [
    "price=9\n",
    "del price"
   ]
  },
  {
   "cell_type": "code",
   "execution_count": 11,
   "id": "249773ac",
   "metadata": {},
   "outputs": [
    {
     "name": "stdout",
     "output_type": "stream",
     "text": [
      "dimension\t price_list\t price_list_2018\t price_list_2019\t price_list_2020\t price_list_type\t print_price_list\t product\t size\t \n",
      "tax\t total\t \n"
     ]
    }
   ],
   "source": [
    "product = 'super snowboard'\n",
    "size = 'medium'\n",
    "dimension = [120,54,2]\n",
    "%who"
   ]
  },
  {
   "cell_type": "code",
   "execution_count": 12,
   "id": "a53c509e",
   "metadata": {},
   "outputs": [
    {
     "name": "stdout",
     "output_type": "stream",
     "text": [
      "Variable           Type        Data/Info\n",
      "----------------------------------------\n",
      "dimension          list        n=3\n",
      "price_list         list        n=4\n",
      "price_list_2018    list        n=5\n",
      "price_list_2019    list        n=5\n",
      "price_list_2020    list        n=5\n",
      "price_list_type    type        <class 'list'>\n",
      "print_price_list   NoneType    None\n",
      "product            str         super snowboard\n",
      "size               str         medium\n",
      "tax                int         2\n",
      "total              int         9\n"
     ]
    }
   ],
   "source": [
    "%whos"
   ]
  },
  {
   "cell_type": "code",
   "execution_count": 13,
   "id": "9b2052da",
   "metadata": {},
   "outputs": [
    {
     "name": "stdout",
     "output_type": "stream",
     "text": [
      "Variable           Type        Data/Info\n",
      "----------------------------------------\n",
      "dimension          list        n=3\n",
      "price_list         list        n=4\n",
      "price_list_2018    list        n=5\n",
      "price_list_2019    list        n=5\n",
      "price_list_2020    list        n=5\n",
      "price_list_type    type        <class 'list'>\n",
      "print_price_list   NoneType    None\n",
      "product            str         super snowboard\n",
      "size               str         medium\n",
      "tax                int         2\n",
      "total              int         9\n"
     ]
    }
   ],
   "source": [
    "price_list_2018 = [33.7,8.76,77.87,34,89.56]\n",
    "price_list_2019 = [34.98,67.90,54.35,58.32,99]\n",
    "price_list_2020 = [55.36,69.36,58.36,79.36,94]\n",
    "\n",
    "%whos"
   ]
  },
  {
   "cell_type": "code",
   "execution_count": null,
   "id": "98732077",
   "metadata": {},
   "outputs": [],
   "source": []
  }
 ],
 "metadata": {
  "kernelspec": {
   "display_name": "Python 3 (ipykernel)",
   "language": "python",
   "name": "python3"
  },
  "language_info": {
   "codemirror_mode": {
    "name": "ipython",
    "version": 3
   },
   "file_extension": ".py",
   "mimetype": "text/x-python",
   "name": "python",
   "nbconvert_exporter": "python",
   "pygments_lexer": "ipython3",
   "version": "3.9.12"
  }
 },
 "nbformat": 4,
 "nbformat_minor": 5
}
