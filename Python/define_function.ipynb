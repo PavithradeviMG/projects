{
 "cells": [
  {
   "cell_type": "code",
   "execution_count": 5,
   "id": "7e920f65",
   "metadata": {},
   "outputs": [
    {
     "ename": "IndentationError",
     "evalue": "expected an indented block (2495387954.py, line 2)",
     "output_type": "error",
     "traceback": [
      "\u001b[1;36m  Input \u001b[1;32mIn [5]\u001b[1;36m\u001b[0m\n\u001b[1;33m    print(\"Welcome, \"+ name)\u001b[0m\n\u001b[1;37m    ^\u001b[0m\n\u001b[1;31mIndentationError\u001b[0m\u001b[1;31m:\u001b[0m expected an indented block\n"
     ]
    }
   ],
   "source": [
    "def greeting(name,department):\n",
    "print(\"Welcome, \"+ name)\n",
    "print(\"You are part of\"+ deparment)\n",
    "greeting(\"Pavithra\",\"Data analyst\")"
   ]
  },
  {
   "cell_type": "code",
   "execution_count": 7,
   "id": "98a9647c",
   "metadata": {},
   "outputs": [
    {
     "name": "stdout",
     "output_type": "stream",
     "text": [
      "The sum of both area is :43.0\n"
     ]
    }
   ],
   "source": [
    "def area_triangle(base,height):\n",
    "    return base*height/2\n",
    "area_a =area_triangle(5,6)\n",
    "area_b =area_triangle(7,8)\n",
    "sum = area_a + area_b\n",
    "print(\"The sum of both area is :\" + str(sum))\n"
   ]
  },
  {
   "cell_type": "code",
   "execution_count": 8,
   "id": "328a9d6c",
   "metadata": {},
   "outputs": [
    {
     "data": {
      "text/plain": [
       "32"
      ]
     },
     "execution_count": 8,
     "metadata": {},
     "output_type": "execute_result"
    }
   ],
   "source": [
    "pow(2,5)"
   ]
  },
  {
   "cell_type": "code",
   "execution_count": 12,
   "id": "7f897c4b",
   "metadata": {},
   "outputs": [
    {
     "ename": "NameError",
     "evalue": "name 'math' is not defined",
     "output_type": "error",
     "traceback": [
      "\u001b[1;31m---------------------------------------------------------------------------\u001b[0m",
      "\u001b[1;31mNameError\u001b[0m                                 Traceback (most recent call last)",
      "Input \u001b[1;32mIn [12]\u001b[0m, in \u001b[0;36m<cell line: 1>\u001b[1;34m()\u001b[0m\n\u001b[1;32m----> 1\u001b[0m \u001b[38;5;28mprint\u001b[39m(\u001b[43mmath\u001b[49m\u001b[38;5;241m.\u001b[39mpow(\u001b[38;5;241m7\u001b[39m,\u001b[38;5;241m2\u001b[39m))\n",
      "\u001b[1;31mNameError\u001b[0m: name 'math' is not defined"
     ]
    }
   ],
   "source": [
    "print(math.pow(7,2))"
   ]
  },
  {
   "cell_type": "code",
   "execution_count": null,
   "id": "542bf092",
   "metadata": {},
   "outputs": [],
   "source": []
  }
 ],
 "metadata": {
  "kernelspec": {
   "display_name": "Python 3 (ipykernel)",
   "language": "python",
   "name": "python3"
  },
  "language_info": {
   "codemirror_mode": {
    "name": "ipython",
    "version": 3
   },
   "file_extension": ".py",
   "mimetype": "text/x-python",
   "name": "python",
   "nbconvert_exporter": "python",
   "pygments_lexer": "ipython3",
   "version": "3.9.12"
  }
 },
 "nbformat": 4,
 "nbformat_minor": 5
}
