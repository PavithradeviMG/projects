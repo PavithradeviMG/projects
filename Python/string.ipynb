{
 "cells": [
  {
   "cell_type": "code",
   "execution_count": 9,
   "id": "4483b90e",
   "metadata": {},
   "outputs": [],
   "source": [
    "movie = 'mega blockbuster'"
   ]
  },
  {
   "cell_type": "code",
   "execution_count": 10,
   "id": "f42fa86f",
   "metadata": {},
   "outputs": [
    {
     "name": "stdout",
     "output_type": "stream",
     "text": [
      "mega blockbuster\n"
     ]
    }
   ],
   "source": [
    "print(movie)"
   ]
  },
  {
   "cell_type": "code",
   "execution_count": 11,
   "id": "61602401",
   "metadata": {},
   "outputs": [],
   "source": [
    "profession = '''pavithra want to learn python for dataanalysis\n",
    "and want to explore some basic libraries were used for data analysis'''"
   ]
  },
  {
   "cell_type": "code",
   "execution_count": 12,
   "id": "14e06a40",
   "metadata": {},
   "outputs": [
    {
     "name": "stdout",
     "output_type": "stream",
     "text": [
      "pavithra want to learn python for dataanalysis\n",
      "and want to explore some basic libraries were used for data analysis\n"
     ]
    }
   ],
   "source": [
    "print(profession)"
   ]
  },
  {
   "cell_type": "code",
   "execution_count": 13,
   "id": "c833654b",
   "metadata": {},
   "outputs": [],
   "source": [
    "skill_set = \"Excel, SQL,Visulization tool, python\""
   ]
  },
  {
   "cell_type": "code",
   "execution_count": 14,
   "id": "04f9bb0f",
   "metadata": {},
   "outputs": [
    {
     "name": "stdout",
     "output_type": "stream",
     "text": [
      "Excel, SQL,Visulization tool, python pavithra want to learn python for dataanalysis\n",
      "and want to explore some basic libraries were used for data analysis\n"
     ]
    }
   ],
   "source": [
    "print(skill_set+' '+profession)"
   ]
  },
  {
   "cell_type": "code",
   "execution_count": 15,
   "id": "bc2a86b2",
   "metadata": {},
   "outputs": [
    {
     "data": {
      "text/plain": [
       "'Excel, SQL,Visulization tool, python Excel, SQL,Visulization tool, python Excel, SQL,Visulization tool, python '"
      ]
     },
     "execution_count": 15,
     "metadata": {},
     "output_type": "execute_result"
    }
   ],
   "source": [
    "(skill_set+' ')*3"
   ]
  },
  {
   "cell_type": "code",
   "execution_count": 16,
   "id": "e3976de4",
   "metadata": {},
   "outputs": [],
   "source": [
    "skill_set_datascience = \"Excel,SQL,Power BI,Python,Neural Network\""
   ]
  },
  {
   "cell_type": "code",
   "execution_count": 17,
   "id": "27df852e",
   "metadata": {},
   "outputs": [
    {
     "data": {
      "text/plain": [
       "'E'"
      ]
     },
     "execution_count": 17,
     "metadata": {},
     "output_type": "execute_result"
    }
   ],
   "source": [
    "skill_set_datascience[0]"
   ]
  },
  {
   "cell_type": "code",
   "execution_count": 18,
   "id": "8c1ea9c3",
   "metadata": {},
   "outputs": [
    {
     "data": {
      "text/plain": [
       "','"
      ]
     },
     "execution_count": 18,
     "metadata": {},
     "output_type": "execute_result"
    }
   ],
   "source": [
    "skill_set_datascience[9]"
   ]
  },
  {
   "cell_type": "code",
   "execution_count": 20,
   "id": "659b7ba9",
   "metadata": {},
   "outputs": [
    {
     "data": {
      "text/plain": [
       "'B'"
      ]
     },
     "execution_count": 20,
     "metadata": {},
     "output_type": "execute_result"
    }
   ],
   "source": [
    "skill_set_datascience[-24]"
   ]
  },
  {
   "cell_type": "code",
   "execution_count": 21,
   "id": "7d7c8702",
   "metadata": {},
   "outputs": [],
   "source": [
    "text1 = 'your friend mark'\n",
    "text2 = 'was'\n",
    "text3 = 'having '\n",
    "text4 = 'a great day '\n",
    "text5 = 'on mountain'"
   ]
  },
  {
   "cell_type": "code",
   "execution_count": 22,
   "id": "2d7e5048",
   "metadata": {},
   "outputs": [],
   "source": [
    "maven = text1[-4] + text2[1] + text3[2] + text4[4] + text5[1]"
   ]
  },
  {
   "cell_type": "code",
   "execution_count": 24,
   "id": "8f2f9f4f",
   "metadata": {},
   "outputs": [
    {
     "name": "stdout",
     "output_type": "stream",
     "text": [
      "The screte password ismaven\n"
     ]
    }
   ],
   "source": [
    "print('The screte password is' +  maven)"
   ]
  },
  {
   "cell_type": "code",
   "execution_count": 25,
   "id": "9199ae8f",
   "metadata": {},
   "outputs": [],
   "source": [
    "message = 'I hope it snows tonight!'"
   ]
  },
  {
   "cell_type": "code",
   "execution_count": 26,
   "id": "23ac22e9",
   "metadata": {},
   "outputs": [
    {
     "data": {
      "text/plain": [
       "'I hope'"
      ]
     },
     "execution_count": 26,
     "metadata": {},
     "output_type": "execute_result"
    }
   ],
   "source": [
    "message[0:6:1]"
   ]
  },
  {
   "cell_type": "code",
   "execution_count": 27,
   "id": "8f563cea",
   "metadata": {},
   "outputs": [
    {
     "data": {
      "text/plain": [
       "'I hope'"
      ]
     },
     "execution_count": 27,
     "metadata": {},
     "output_type": "execute_result"
    }
   ],
   "source": [
    "message[:6:1]"
   ]
  },
  {
   "cell_type": "code",
   "execution_count": 28,
   "id": "52e166fc",
   "metadata": {},
   "outputs": [
    {
     "data": {
      "text/plain": [
       "'I hope'"
      ]
     },
     "execution_count": 28,
     "metadata": {},
     "output_type": "execute_result"
    }
   ],
   "source": [
    "message[:6]"
   ]
  },
  {
   "cell_type": "code",
   "execution_count": 29,
   "id": "0e926eb8",
   "metadata": {},
   "outputs": [
    {
     "data": {
      "text/plain": [
       "' it snows tonight!'"
      ]
     },
     "execution_count": 29,
     "metadata": {},
     "output_type": "execute_result"
    }
   ],
   "source": [
    "message[6:]"
   ]
  },
  {
   "cell_type": "code",
   "execution_count": 30,
   "id": "94d4b1c2",
   "metadata": {},
   "outputs": [
    {
     "data": {
      "text/plain": [
       "'!thginot swons ti epoh I'"
      ]
     },
     "execution_count": 30,
     "metadata": {},
     "output_type": "execute_result"
    }
   ],
   "source": [
    "message[: :-1]"
   ]
  },
  {
   "cell_type": "code",
   "execution_count": 31,
   "id": "7f6834b1",
   "metadata": {},
   "outputs": [
    {
     "data": {
      "text/plain": [
       "'!thginot'"
      ]
     },
     "execution_count": 31,
     "metadata": {},
     "output_type": "execute_result"
    }
   ],
   "source": [
    "message[-1:-9:-1]"
   ]
  },
  {
   "cell_type": "code",
   "execution_count": 32,
   "id": "5d799c43",
   "metadata": {},
   "outputs": [
    {
     "data": {
      "text/plain": [
       "' tonight'"
      ]
     },
     "execution_count": 32,
     "metadata": {},
     "output_type": "execute_result"
    }
   ],
   "source": [
    "message[-9:-1:1]"
   ]
  },
  {
   "cell_type": "code",
   "execution_count": 33,
   "id": "46a18b2c",
   "metadata": {},
   "outputs": [
    {
     "data": {
      "text/plain": [
       "' tonight!'"
      ]
     },
     "execution_count": 33,
     "metadata": {},
     "output_type": "execute_result"
    }
   ],
   "source": [
    "message[-9: :]"
   ]
  },
  {
   "cell_type": "code",
   "execution_count": 34,
   "id": "68350137",
   "metadata": {},
   "outputs": [],
   "source": [
    "testimonial = '''I love skiing. It's my favorite hobby.\n",
    "Some people say's, its not a hobby, it's life'''"
   ]
  },
  {
   "cell_type": "code",
   "execution_count": 35,
   "id": "a31b3ff0",
   "metadata": {},
   "outputs": [],
   "source": [
    "short_testimonial = testimonial[:23]+testimonial[-7:-2]"
   ]
  },
  {
   "cell_type": "code",
   "execution_count": 36,
   "id": "74813b1f",
   "metadata": {},
   "outputs": [
    {
     "name": "stdout",
     "output_type": "stream",
     "text": [
      "I love skiing. It's my 's li\n"
     ]
    }
   ],
   "source": [
    "print(short_testimonial)"
   ]
  },
  {
   "cell_type": "code",
   "execution_count": null,
   "id": "80a8249b",
   "metadata": {},
   "outputs": [],
   "source": []
  }
 ],
 "metadata": {
  "kernelspec": {
   "display_name": "Python 3 (ipykernel)",
   "language": "python",
   "name": "python3"
  },
  "language_info": {
   "codemirror_mode": {
    "name": "ipython",
    "version": 3
   },
   "file_extension": ".py",
   "mimetype": "text/x-python",
   "name": "python",
   "nbconvert_exporter": "python",
   "pygments_lexer": "ipython3",
   "version": "3.9.12"
  }
 },
 "nbformat": 4,
 "nbformat_minor": 5
}
