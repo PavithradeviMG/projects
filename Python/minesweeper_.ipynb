{
 "cells": [
  {
   "cell_type": "code",
   "execution_count": 3,
   "id": "2f624ebb",
   "metadata": {},
   "outputs": [],
   "source": [
    "def minesweeper(grid): #define function for grid\n",
    "    rows = len(grid) #initialize rows and columns\n",
    "    cols = len(grid[0])\n",
    "    # direction for the movement\n",
    "    directions = [\n",
    "        (-1, -1), (-1, 0), (-1, 1),\n",
    "        (0, -1),           (0, 1),\n",
    "        (1, -1),  (1, 0),  (1, 1)\n",
    "    ] \n",
    "    #initialize the new_grid for output \n",
    "    new_grid = [[0 for _ in range(cols)] for _ in range(rows)]\n",
    "    #Using enumerate function for positioning the grid.\n",
    "\n",
    "    for row_idx, row in enumerate(grid):\n",
    "        for col_idx, val in enumerate(row):\n",
    "            if val == \"#\":\n",
    "                new_grid[row_idx][col_idx] = \"#\"\n",
    "                continue\n",
    "    # intialize the counter\n",
    "\n",
    "            mine_count = 0\n",
    "            for direction in directions:\n",
    "                new_row = row_idx + direction[0]\n",
    "                new_col = col_idx + direction[1]\n",
    "\n",
    "                if 0 <= new_row < rows and 0 <= new_col < cols and grid[new_row][new_col] == \"#\":\n",
    "                    mine_count += 1\n",
    "\n",
    "            new_grid[row_idx][col_idx] = str(mine_count)\n",
    "\n",
    "    return new_grid\n"
   ]
  },
  {
   "cell_type": "code",
   "execution_count": 4,
   "id": "c0be87bf",
   "metadata": {},
   "outputs": [
    {
     "name": "stdout",
     "output_type": "stream",
     "text": [
      "['1', '1', '2', '#', '#']\n",
      "['1', '#', '3', '3', '2']\n",
      "['2', '4', '#', '2', '0']\n",
      "['1', '#', '#', '2', '0']\n",
      "['1', '2', '2', '1', '0']\n"
     ]
    }
   ],
   "source": [
    "grid = [\n",
    "    [\"-\", \"-\", \"-\", \"#\", \"#\"],\n",
    "    [\"-\", \"#\", \"-\", \"-\", \"-\"],\n",
    "    [\"-\", \"-\", \"#\", \"-\", \"-\"],\n",
    "    [\"-\", \"#\", \"#\", \"-\", \"-\"],\n",
    "    [\"-\", \"-\", \"-\", \"-\", \"-\"]\n",
    "]\n",
    "\n",
    "result = minesweeper(grid)\n",
    "for row in result:\n",
    "    print(row)\n"
   ]
  },
  {
   "cell_type": "code",
   "execution_count": null,
   "id": "4f7adacf",
   "metadata": {},
   "outputs": [],
   "source": []
  }
 ],
 "metadata": {
  "kernelspec": {
   "display_name": "Python 3 (ipykernel)",
   "language": "python",
   "name": "python3"
  },
  "language_info": {
   "codemirror_mode": {
    "name": "ipython",
    "version": 3
   },
   "file_extension": ".py",
   "mimetype": "text/x-python",
   "name": "python",
   "nbconvert_exporter": "python",
   "pygments_lexer": "ipython3",
   "version": "3.9.12"
  }
 },
 "nbformat": 4,
 "nbformat_minor": 5
}
