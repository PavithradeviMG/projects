{
 "cells": [
  {
   "cell_type": "code",
   "execution_count": 39,
   "id": "b2871643",
   "metadata": {},
   "outputs": [
    {
     "data": {
      "text/plain": [
       "float"
      ]
     },
     "execution_count": 39,
     "metadata": {},
     "output_type": "execute_result"
    }
   ],
   "source": [
    "number = 1.098\n",
    "type(number)"
   ]
  },
  {
   "cell_type": "code",
   "execution_count": 40,
   "id": "8677b8c2",
   "metadata": {},
   "outputs": [
    {
     "data": {
      "text/plain": [
       "(6, int)"
      ]
     },
     "execution_count": 40,
     "metadata": {},
     "output_type": "execute_result"
    }
   ],
   "source": [
    "number = 6.78\n",
    "fixed_number = int(number)\n",
    "fixed_number,type(fixed_number)"
   ]
  },
  {
   "cell_type": "code",
   "execution_count": 41,
   "id": "baddd535",
   "metadata": {},
   "outputs": [
    {
     "data": {
      "text/plain": [
       "(9.0, float)"
      ]
     },
     "execution_count": 41,
     "metadata": {},
     "output_type": "execute_result"
    }
   ],
   "source": [
    "number = 9\n",
    "fixed_number = float(number)\n",
    "fixed_number, type(fixed_number)"
   ]
  },
  {
   "cell_type": "code",
   "execution_count": 42,
   "id": "0770524e",
   "metadata": {},
   "outputs": [
    {
     "data": {
      "text/plain": [
       "str"
      ]
     },
     "execution_count": 42,
     "metadata": {},
     "output_type": "execute_result"
    }
   ],
   "source": [
    "text = '9.8'\n",
    "type(text)"
   ]
  },
  {
   "cell_type": "code",
   "execution_count": 43,
   "id": "a0c3d632",
   "metadata": {},
   "outputs": [
    {
     "data": {
      "text/plain": [
       "(9.8, float)"
      ]
     },
     "execution_count": 43,
     "metadata": {},
     "output_type": "execute_result"
    }
   ],
   "source": [
    "fixed_number = float(text)\n",
    "fixed_number,type(fixed_number)"
   ]
  },
  {
   "cell_type": "code",
   "execution_count": 44,
   "id": "faee20a4",
   "metadata": {},
   "outputs": [],
   "source": [
    "numeric_string = '76.90'\n",
    "numeric_float = 76.90\n",
    "numeric_integer = 7690"
   ]
  },
  {
   "cell_type": "code",
   "execution_count": 45,
   "id": "9829e9a1",
   "metadata": {},
   "outputs": [
    {
     "data": {
      "text/plain": [
       "76.9"
      ]
     },
     "execution_count": 45,
     "metadata": {},
     "output_type": "execute_result"
    }
   ],
   "source": [
    "float(numeric_string)"
   ]
  },
  {
   "cell_type": "code",
   "execution_count": 46,
   "id": "9983dc34",
   "metadata": {},
   "outputs": [
    {
     "data": {
      "text/plain": [
       "7690.0"
      ]
     },
     "execution_count": 46,
     "metadata": {},
     "output_type": "execute_result"
    }
   ],
   "source": [
    "float(numeric_integer)"
   ]
  },
  {
   "cell_type": "code",
   "execution_count": 47,
   "id": "be9bac1d",
   "metadata": {},
   "outputs": [
    {
     "data": {
      "text/plain": [
       "7766.9"
      ]
     },
     "execution_count": 47,
     "metadata": {},
     "output_type": "execute_result"
    }
   ],
   "source": [
    "numeric_integer+numeric_float"
   ]
  },
  {
   "cell_type": "code",
   "execution_count": 48,
   "id": "78e9913e",
   "metadata": {},
   "outputs": [
    {
     "data": {
      "text/plain": [
       "7613.1"
      ]
     },
     "execution_count": 48,
     "metadata": {},
     "output_type": "execute_result"
    }
   ],
   "source": [
    "numeric_integer-numeric_float"
   ]
  },
  {
   "cell_type": "code",
   "execution_count": 49,
   "id": "36ddccf0",
   "metadata": {},
   "outputs": [
    {
     "data": {
      "text/plain": [
       "591361.0"
      ]
     },
     "execution_count": 49,
     "metadata": {},
     "output_type": "execute_result"
    }
   ],
   "source": [
    "numeric_integer*numeric_float"
   ]
  },
  {
   "cell_type": "code",
   "execution_count": 50,
   "id": "89810361",
   "metadata": {},
   "outputs": [
    {
     "data": {
      "text/plain": [
       "99.99999999999999"
      ]
     },
     "execution_count": 50,
     "metadata": {},
     "output_type": "execute_result"
    }
   ],
   "source": [
    "numeric_integer/numeric_float"
   ]
  },
  {
   "cell_type": "code",
   "execution_count": 51,
   "id": "ff7786a8",
   "metadata": {},
   "outputs": [
    {
     "data": {
      "text/plain": [
       "99.0"
      ]
     },
     "execution_count": 51,
     "metadata": {},
     "output_type": "execute_result"
    }
   ],
   "source": [
    "numeric_integer//numeric_float"
   ]
  },
  {
   "cell_type": "code",
   "execution_count": 52,
   "id": "01a6e7ed",
   "metadata": {},
   "outputs": [
    {
     "data": {
      "text/plain": [
       "76.89999999999944"
      ]
     },
     "execution_count": 52,
     "metadata": {},
     "output_type": "execute_result"
    }
   ],
   "source": [
    "numeric_integer%numeric_float"
   ]
  },
  {
   "cell_type": "code",
   "execution_count": 53,
   "id": "2c24901d",
   "metadata": {},
   "outputs": [
    {
     "data": {
      "text/plain": [
       "6.725669631584256e+298"
      ]
     },
     "execution_count": 53,
     "metadata": {},
     "output_type": "execute_result"
    }
   ],
   "source": [
    "numeric_integer**numeric_float"
   ]
  },
  {
   "cell_type": "code",
   "execution_count": 54,
   "id": "696384be",
   "metadata": {},
   "outputs": [
    {
     "data": {
      "text/plain": [
       "float"
      ]
     },
     "execution_count": 54,
     "metadata": {},
     "output_type": "execute_result"
    }
   ],
   "source": [
    "type(numeric_integer**numeric_float)"
   ]
  },
  {
   "cell_type": "markdown",
   "id": "bd69a569",
   "metadata": {},
   "source": [
    "1. calculate gross profit on snowboard"
   ]
  },
  {
   "cell_type": "code",
   "execution_count": 55,
   "id": "3e3b9039",
   "metadata": {},
   "outputs": [
    {
     "data": {
      "text/plain": [
       "300.0"
      ]
     },
     "execution_count": 55,
     "metadata": {},
     "output_type": "execute_result"
    }
   ],
   "source": [
    "snowboard_price = 499.99\n",
    "snowboard_cost = 199.99\n",
    "gross_profit = snowboard_price-snowboard_cost\n",
    "gross_profit"
   ]
  },
  {
   "cell_type": "raw",
   "id": "f633d47b",
   "metadata": {},
   "source": [
    "2. calculate the gross margin on snowboard "
   ]
  },
  {
   "cell_type": "code",
   "execution_count": 56,
   "id": "dbb8dc38",
   "metadata": {},
   "outputs": [
    {
     "data": {
      "text/plain": [
       "0.6000120002400048"
      ]
     },
     "execution_count": 56,
     "metadata": {},
     "output_type": "execute_result"
    }
   ],
   "source": [
    "gross_margin = gross_profit/snowboard_price\n",
    "gross_margin"
   ]
  },
  {
   "cell_type": "raw",
   "id": "4c8d40c0",
   "metadata": {},
   "source": [
    "3. Calculate the price needed to obtain a gross_margin of 70%"
   ]
  },
  {
   "cell_type": "code",
   "execution_count": 57,
   "id": "79e62fca",
   "metadata": {},
   "outputs": [
    {
     "data": {
      "text/plain": [
       "666.6333333333332"
      ]
     },
     "execution_count": 57,
     "metadata": {},
     "output_type": "execute_result"
    }
   ],
   "source": [
    "desired_margin = .7\n",
    "price_needed = snowboard_cost/(1-desired_margin)\n",
    "price_needed"
   ]
  },
  {
   "cell_type": "raw",
   "id": "8a1b16cb",
   "metadata": {},
   "source": [
    " 4 calculate sales tax on a sale of a snowboard\n",
    " taxrate=8%\n",
    " "
   ]
  },
  {
   "cell_type": "code",
   "execution_count": 58,
   "id": "f35da5fc",
   "metadata": {},
   "outputs": [
    {
     "data": {
      "text/plain": [
       "39.9992"
      ]
     },
     "execution_count": 58,
     "metadata": {},
     "output_type": "execute_result"
    }
   ],
   "source": [
    "tax_rate = 0.08\n",
    "sales_tax = tax_rate*snowboard_price\n",
    "sales_tax\n"
   ]
  },
  {
   "cell_type": "raw",
   "id": "d8c850d9",
   "metadata": {},
   "source": [
    "5. Calculate the amount of money we'd have if we invested the profit from selling 5 snowboard for 1 year\n",
    "Assume a intrest of 5%\n"
   ]
  },
  {
   "cell_type": "code",
   "execution_count": 59,
   "id": "05c93f1e",
   "metadata": {},
   "outputs": [
    {
     "data": {
      "text/plain": [
       "1575.0"
      ]
     },
     "execution_count": 59,
     "metadata": {},
     "output_type": "execute_result"
    }
   ],
   "source": [
    "amount_invested = gross_profit*5\n",
    "intrest_rate = .05\n",
    "amount_after_1yr = amount_invested + (amount_invested*intrest_rate)\n",
    "amount_after_1yr"
   ]
  },
  {
   "cell_type": "code",
   "execution_count": 60,
   "id": "867d9906",
   "metadata": {},
   "outputs": [
    {
     "data": {
      "text/plain": [
       "1500.0"
      ]
     },
     "execution_count": 60,
     "metadata": {},
     "output_type": "execute_result"
    }
   ],
   "source": [
    "amount_invested"
   ]
  },
  {
   "cell_type": "code",
   "execution_count": 61,
   "id": "065e2e76",
   "metadata": {},
   "outputs": [
    {
     "data": {
      "text/plain": [
       "3.16"
      ]
     },
     "execution_count": 61,
     "metadata": {},
     "output_type": "execute_result"
    }
   ],
   "source": [
    "round(3.159875,3)"
   ]
  },
  {
   "cell_type": "code",
   "execution_count": 62,
   "id": "03954071",
   "metadata": {},
   "outputs": [
    {
     "data": {
      "text/plain": [
       "3"
      ]
     },
     "execution_count": 62,
     "metadata": {},
     "output_type": "execute_result"
    }
   ],
   "source": [
    "round(3.1459876)"
   ]
  },
  {
   "cell_type": "code",
   "execution_count": 63,
   "id": "d72bc4ef",
   "metadata": {},
   "outputs": [
    {
     "data": {
      "text/plain": [
       "4"
      ]
     },
     "execution_count": 63,
     "metadata": {},
     "output_type": "execute_result"
    }
   ],
   "source": [
    "round(3.51987)"
   ]
  },
  {
   "cell_type": "code",
   "execution_count": 64,
   "id": "fc9ef4a4",
   "metadata": {},
   "outputs": [
    {
     "data": {
      "text/plain": [
       "7"
      ]
     },
     "execution_count": 64,
     "metadata": {},
     "output_type": "execute_result"
    }
   ],
   "source": [
    "abs(-7)"
   ]
  },
  {
   "cell_type": "code",
   "execution_count": 65,
   "id": "d439afe8",
   "metadata": {},
   "outputs": [
    {
     "data": {
      "text/plain": [
       "17"
      ]
     },
     "execution_count": 65,
     "metadata": {},
     "output_type": "execute_result"
    }
   ],
   "source": [
    "sum((4,5,8))"
   ]
  },
  {
   "cell_type": "code",
   "execution_count": 66,
   "id": "de1a6aee",
   "metadata": {},
   "outputs": [
    {
     "data": {
      "text/plain": [
       "6"
      ]
     },
     "execution_count": 66,
     "metadata": {},
     "output_type": "execute_result"
    }
   ],
   "source": [
    "min({6,7,12})"
   ]
  },
  {
   "cell_type": "code",
   "execution_count": 67,
   "id": "8e40896c",
   "metadata": {},
   "outputs": [
    {
     "data": {
      "text/plain": [
       "9"
      ]
     },
     "execution_count": 67,
     "metadata": {},
     "output_type": "execute_result"
    }
   ],
   "source": [
    "max([8,9,2])"
   ]
  },
  {
   "cell_type": "code",
   "execution_count": 68,
   "id": "c09b09f8",
   "metadata": {},
   "outputs": [],
   "source": [
    "number = 3.567"
   ]
  },
  {
   "cell_type": "code",
   "execution_count": 69,
   "id": "8b085388",
   "metadata": {},
   "outputs": [
    {
     "data": {
      "text/plain": [
       "4"
      ]
     },
     "execution_count": 69,
     "metadata": {},
     "output_type": "execute_result"
    }
   ],
   "source": [
    "round(number)"
   ]
  },
  {
   "cell_type": "code",
   "execution_count": 70,
   "id": "15b37f7f",
   "metadata": {},
   "outputs": [
    {
     "data": {
      "text/plain": [
       "3.57"
      ]
     },
     "execution_count": 70,
     "metadata": {},
     "output_type": "execute_result"
    }
   ],
   "source": [
    "round(number, 2)"
   ]
  },
  {
   "cell_type": "code",
   "execution_count": 72,
   "id": "2574df23",
   "metadata": {},
   "outputs": [],
   "source": [
    "mark_scored = (24,65,54)"
   ]
  },
  {
   "cell_type": "code",
   "execution_count": 73,
   "id": "40a54153",
   "metadata": {},
   "outputs": [
    {
     "data": {
      "text/plain": [
       "143"
      ]
     },
     "execution_count": 73,
     "metadata": {},
     "output_type": "execute_result"
    }
   ],
   "source": [
    "sum(mark_scored)"
   ]
  },
  {
   "cell_type": "code",
   "execution_count": 74,
   "id": "1fbc126d",
   "metadata": {},
   "outputs": [
    {
     "data": {
      "text/plain": [
       "24"
      ]
     },
     "execution_count": 74,
     "metadata": {},
     "output_type": "execute_result"
    }
   ],
   "source": [
    "min(mark_scored)"
   ]
  },
  {
   "cell_type": "code",
   "execution_count": 75,
   "id": "1bbb4ddc",
   "metadata": {},
   "outputs": [
    {
     "data": {
      "text/plain": [
       "65"
      ]
     },
     "execution_count": 75,
     "metadata": {},
     "output_type": "execute_result"
    }
   ],
   "source": [
    "max(mark_scored)"
   ]
  },
  {
   "cell_type": "code",
   "execution_count": 76,
   "id": "74e20c6b",
   "metadata": {},
   "outputs": [
    {
     "data": {
      "text/plain": [
       "188"
      ]
     },
     "execution_count": 76,
     "metadata": {},
     "output_type": "execute_result"
    }
   ],
   "source": [
    "sum(mark_scored, 45)"
   ]
  },
  {
   "cell_type": "code",
   "execution_count": 77,
   "id": "43dd3a12",
   "metadata": {},
   "outputs": [],
   "source": [
    "price_list = [45.67,144.36,69.23,98.32,36.45]"
   ]
  },
  {
   "cell_type": "code",
   "execution_count": 78,
   "id": "bb389dd4",
   "metadata": {},
   "outputs": [],
   "source": [
    "lowest_price = min(price_list)\n",
    "highest_price = max(price_list)\n",
    "total_price = sum( price_list)"
   ]
  },
  {
   "cell_type": "code",
   "execution_count": 79,
   "id": "2eec2247",
   "metadata": {},
   "outputs": [
    {
     "name": "stdout",
     "output_type": "stream",
     "text": [
      "36.45 144.36 394.03000000000003\n"
     ]
    }
   ],
   "source": [
    "print(lowest_price,highest_price,total_price)"
   ]
  },
  {
   "cell_type": "code",
   "execution_count": null,
   "id": "07aa4e31",
   "metadata": {},
   "outputs": [],
   "source": []
  }
 ],
 "metadata": {
  "kernelspec": {
   "display_name": "Python 3 (ipykernel)",
   "language": "python",
   "name": "python3"
  },
  "language_info": {
   "codemirror_mode": {
    "name": "ipython",
    "version": 3
   },
   "file_extension": ".py",
   "mimetype": "text/x-python",
   "name": "python",
   "nbconvert_exporter": "python",
   "pygments_lexer": "ipython3",
   "version": "3.9.12"
  }
 },
 "nbformat": 4,
 "nbformat_minor": 5
}
