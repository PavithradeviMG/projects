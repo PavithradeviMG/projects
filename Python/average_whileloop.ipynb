{
 "cells": [
  {
   "cell_type": "code",
   "execution_count": null,
   "id": "061ca184",
   "metadata": {},
   "outputs": [],
   "source": [
    "# Calculate the average by user input \n",
    "sum = 0\n",
    "count = 0\n",
    " #intialize the variable\n",
    "number = int(input(\"Enter a positive number,negative number to exit: \" ))\n",
    "while number >= 0:\n",
    "    sum += number\n",
    "    count += 1 \n",
    "    number = int(input(\"Enter a positive number,negative number to exit: \"))\n",
    "if count > 0:\n",
    "    print(f\"Average is {sum /count} \")\n",
    "    "
   ]
  },
  {
   "cell_type": "code",
   "execution_count": null,
   "id": "15fe4fa6",
   "metadata": {},
   "outputs": [],
   "source": []
  },
  {
   "cell_type": "code",
   "execution_count": null,
   "id": "6bd92bda",
   "metadata": {},
   "outputs": [],
   "source": []
  },
  {
   "cell_type": "code",
   "execution_count": null,
   "id": "75f6cf3f",
   "metadata": {},
   "outputs": [],
   "source": []
  }
 ],
 "metadata": {
  "kernelspec": {
   "display_name": "Python 3 (ipykernel)",
   "language": "python",
   "name": "python3"
  },
  "language_info": {
   "codemirror_mode": {
    "name": "ipython",
    "version": 3
   },
   "file_extension": ".py",
   "mimetype": "text/x-python",
   "name": "python",
   "nbconvert_exporter": "python",
   "pygments_lexer": "ipython3",
   "version": "3.9.12"
  }
 },
 "nbformat": 4,
 "nbformat_minor": 5
}
