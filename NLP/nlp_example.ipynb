{
 "cells": [
  {
   "cell_type": "code",
   "execution_count": 1,
   "id": "2ab78777",
   "metadata": {},
   "outputs": [],
   "source": [
    "import spacy"
   ]
  },
  {
   "cell_type": "code",
   "execution_count": 2,
   "id": "47ab27fb",
   "metadata": {},
   "outputs": [],
   "source": [
    "nlp = spacy.load('en_core_web_sm')"
   ]
  },
  {
   "cell_type": "code",
   "execution_count": 3,
   "id": "3cd35362",
   "metadata": {},
   "outputs": [],
   "source": [
    "sample = u\"Build your Datascience skills to launch an in-demand,valuable career in six months.\""
   ]
  },
  {
   "cell_type": "code",
   "execution_count": 4,
   "id": "66cab3cc",
   "metadata": {},
   "outputs": [],
   "source": [
    "doc = nlp(sample)"
   ]
  },
  {
   "cell_type": "code",
   "execution_count": 6,
   "id": "72654aa2",
   "metadata": {},
   "outputs": [
    {
     "data": {
      "text/plain": [
       "['Build',\n",
       " 'your',\n",
       " 'Datascience',\n",
       " 'skills',\n",
       " 'to',\n",
       " 'launch',\n",
       " 'an',\n",
       " 'in-demand,valuable',\n",
       " 'career',\n",
       " 'in',\n",
       " 'six',\n",
       " 'months.']"
      ]
     },
     "execution_count": 6,
     "metadata": {},
     "output_type": "execute_result"
    }
   ],
   "source": [
    "#Tokenisation\n",
    "doc.text.split()"
   ]
  },
  {
   "cell_type": "code",
   "execution_count": 9,
   "id": "118818d7",
   "metadata": {},
   "outputs": [
    {
     "data": {
      "text/plain": [
       "['Build',\n",
       " 'your',\n",
       " 'Datascience',\n",
       " 'skills',\n",
       " 'to',\n",
       " 'launch',\n",
       " 'an',\n",
       " 'in',\n",
       " '-',\n",
       " 'demand',\n",
       " ',',\n",
       " 'valuable',\n",
       " 'career',\n",
       " 'in',\n",
       " 'six',\n",
       " 'months',\n",
       " '.']"
      ]
     },
     "execution_count": 9,
     "metadata": {},
     "output_type": "execute_result"
    }
   ],
   "source": [
    "[token.orth_ for token in doc]"
   ]
  },
  {
   "cell_type": "code",
   "execution_count": 11,
   "id": "70883064",
   "metadata": {},
   "outputs": [
    {
     "name": "stdout",
     "output_type": "stream",
     "text": [
      "[(Build, 'Build', 5389077834083678306), (your, 'your', 1572612192562026184), (Datascience, 'Datascience', 11668489742577776648), (skills, 'skills', 12917368283846924199), (to, 'to', 3791531372978436496), (launch, 'launch', 1882817931903534611), (an, 'an', 15099054000809333061), (in, 'in', 3002984154512732771), (-, '-', 9153284864653046197), (demand, 'demand', 14960746577302607048), (,, ',', 2593208677638477497), (valuable, 'valuable', 8193598804577691257), (career, 'career', 16267834800013645067), (in, 'in', 3002984154512732771), (six, 'six', 14386902641064052387), (months, 'months', 11199438407386692767), (., '.', 12646065887601541794)]\n"
     ]
    }
   ],
   "source": [
    "print([(token,token.orth_,token.orth)for token in doc])"
   ]
  },
  {
   "cell_type": "code",
   "execution_count": 12,
   "id": "fc7f6cc7",
   "metadata": {},
   "outputs": [
    {
     "name": "stdout",
     "output_type": "stream",
     "text": [
      "['Build', 'your', 'Datascience', 'skills', 'to', 'launch', 'an', 'in', 'demand', 'valuable', 'career', 'in', 'six', 'months']\n"
     ]
    }
   ],
   "source": [
    "print([token.orth_ for token in doc if not token.is_punct|token.is_space])"
   ]
  },
  {
   "cell_type": "code",
   "execution_count": 13,
   "id": "824d693d",
   "metadata": {},
   "outputs": [
    {
     "name": "stdout",
     "output_type": "stream",
     "text": [
      "your\n",
      "to\n",
      "an\n",
      "in\n",
      "in\n",
      "six\n"
     ]
    }
   ],
   "source": [
    "for word in doc:\n",
    "    if word.is_stop == True:\n",
    "        print(word)"
   ]
  },
  {
   "cell_type": "code",
   "execution_count": 14,
   "id": "3df82559",
   "metadata": {},
   "outputs": [
    {
     "name": "stdout",
     "output_type": "stream",
     "text": [
      "['sing', 'sining', 'sing']\n"
     ]
    }
   ],
   "source": [
    "#Lemmatisation\n",
    "sing = \"sang sining sing\"\n",
    "nlp_practice = nlp(sing)\n",
    "print([word.lemma_ for word in nlp_practice])"
   ]
  },
  {
   "cell_type": "code",
   "execution_count": 15,
   "id": "fbe78bfc",
   "metadata": {},
   "outputs": [],
   "source": [
    "#Named entity recognition\n",
    "wiki_priyanka = \"\"\"known by her married name Priyanka Chopra Jonas, is an Indian actress,\n",
    "singer, film producer, philanthropist, and the winner of the Miss World 2000 pageant.\n",
    "One of India's highest-paid and most popular celebrities, Chopra has received numerous\n",
    "awards, including a National Film Award and five Filmfare Awards. In 2016, the Government\n",
    "of India honoured her with the Padma Shri, and Time named her one of the 100 most influential people in the world.\"\"\""
   ]
  },
  {
   "cell_type": "code",
   "execution_count": 16,
   "id": "d1c139d8",
   "metadata": {},
   "outputs": [
    {
     "name": "stdout",
     "output_type": "stream",
     "text": [
      "[(Priyanka Chopra Jonas, 'ORG', 383), (Indian, 'NORP', 381), (2000, 'DATE', 391), (One, 'CARDINAL', 397), (India, 'GPE', 384), (Chopra, 'ORG', 383), (five, 'CARDINAL', 397), (2016, 'DATE', 391), (India, 'GPE', 384), (the Padma Shri, 'PRODUCT', 386), (Time, 'ORG', 383), (one, 'CARDINAL', 397), (100, 'CARDINAL', 397)]\n"
     ]
    }
   ],
   "source": [
    "#Get label and entities and print them.\n",
    "nlp_priyanka = nlp(wiki_priyanka )\n",
    "print([(i,i.label_,i.label) for i in nlp_priyanka.ents])"
   ]
  },
  {
   "cell_type": "code",
   "execution_count": 17,
   "id": "b4aae3ab",
   "metadata": {},
   "outputs": [
    {
     "name": "stdout",
     "output_type": "stream",
     "text": [
      "FAC:Buildings, airports, highways, bridges, etc.\n"
     ]
    }
   ],
   "source": [
    "#Get an explanation of an entity and print it\n",
    "entity_fac = spacy.explain(\"FAC\")\n",
    "print(f\"FAC:{entity_fac}\")"
   ]
  },
  {
   "cell_type": "code",
   "execution_count": 18,
   "id": "3ef31c61",
   "metadata": {},
   "outputs": [
    {
     "name": "stdout",
     "output_type": "stream",
     "text": [
      "CARDINAL:Numerals that do not fall under another type\n"
     ]
    }
   ],
   "source": [
    "entity_fac = spacy.explain(\"CARDINAL\")\n",
    "print(f\"CARDINAL:{entity_fac}\")"
   ]
  },
  {
   "cell_type": "code",
   "execution_count": null,
   "id": "107e839b",
   "metadata": {},
   "outputs": [],
   "source": []
  }
 ],
 "metadata": {
  "kernelspec": {
   "display_name": "Python 3 (ipykernel)",
   "language": "python",
   "name": "python3"
  },
  "language_info": {
   "codemirror_mode": {
    "name": "ipython",
    "version": 3
   },
   "file_extension": ".py",
   "mimetype": "text/x-python",
   "name": "python",
   "nbconvert_exporter": "python",
   "pygments_lexer": "ipython3",
   "version": "3.9.12"
  }
 },
 "nbformat": 4,
 "nbformat_minor": 5
}
