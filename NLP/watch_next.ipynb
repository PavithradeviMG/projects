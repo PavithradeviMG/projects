{
 "cells": [
  {
   "cell_type": "code",
   "execution_count": 11,
   "id": "521fc11f",
   "metadata": {},
   "outputs": [],
   "source": [
    "#import spacy\n",
    "import spacy"
   ]
  },
  {
   "cell_type": "code",
   "execution_count": 12,
   "id": "42acc004",
   "metadata": {},
   "outputs": [],
   "source": [
    "#This will return a Language object containing all components and data needed to process text.\n",
    "nlp = spacy.load('en_core_web_md')"
   ]
  },
  {
   "cell_type": "code",
   "execution_count": 13,
   "id": "745c6d7d",
   "metadata": {},
   "outputs": [],
   "source": [
    "# movie description to comapare with\n",
    "movie_description = \"\"\"Will he save\n",
    "their world or destroy it? When the Hulk becomes too dangerous for the\n",
    "Earth, the Illuminati trick Hulk into a shuttle and launch him into space to a\n",
    "planet where the Hulk can live in peace. Unfortunately, Hulk land on the\n",
    "planet Sakaar where he is sold into slavery and trained as a gladiator.\"\"\""
   ]
  },
  {
   "cell_type": "code",
   "execution_count": 14,
   "id": "d302221b",
   "metadata": {},
   "outputs": [],
   "source": [
    "# open and load file contents\n",
    "movies = open(\"movies.txt\", \"r\")"
   ]
  },
  {
   "cell_type": "code",
   "execution_count": 15,
   "id": "62455c2f",
   "metadata": {},
   "outputs": [],
   "source": [
    "# declare and initialize a list to store movie list splint into movie title and description\n",
    "split_list = []"
   ]
  },
  {
   "cell_type": "code",
   "execution_count": 16,
   "id": "21db7290",
   "metadata": {},
   "outputs": [],
   "source": [
    "# split movies into title and description and store in list\n",
    "for i in movies:\n",
    "    split_list.append(i.split(':'))"
   ]
  },
  {
   "cell_type": "code",
   "execution_count": 18,
   "id": "a674c032",
   "metadata": {},
   "outputs": [],
   "source": [
    "# get number of movies in text file\n",
    "count = len(split_list)\n",
    "# declare and initialize list to store similarity values\n",
    "similarity_list = []\n",
    "\n",
    "    "
   ]
  },
  {
   "cell_type": "code",
   "execution_count": 19,
   "id": "391db609",
   "metadata": {},
   "outputs": [],
   "source": [
    "model_sentence = nlp(movie_description)"
   ]
  },
  {
   "cell_type": "code",
   "execution_count": 22,
   "id": "73af3a7c",
   "metadata": {},
   "outputs": [],
   "source": [
    "#define function for movie description\n",
    "def next_movie(movie_description):\n",
    "# iterate as many times as the number of movies in the text file\n",
    "    for i in range(0, count):\n",
    "# check similarity between the movie description with the recently watched movie description\n",
    "        similarity_list.append(nlp(split_list[i][1]).similarity(model_sentence))\n",
    "# get the maximum similarity value\n",
    "        max_similarity = max(similarity_list)\n",
    "# get index of highest similarity value\n",
    "        max_similarity_index = similarity_list.index(max_similarity)\n",
    "\n",
    "    # return movie title similar to watched movie\n",
    "    return split_list[max_similarity_index][0]"
   ]
  },
  {
   "cell_type": "code",
   "execution_count": 24,
   "id": "db795e65",
   "metadata": {},
   "outputs": [
    {
     "name": "stdout",
     "output_type": "stream",
     "text": [
      "Next Movie Recommended to Watch: Movie C \n"
     ]
    }
   ],
   "source": [
    "# call function that gets the next movie description that is similar to the watched movie\n",
    "print(\"Next Movie Recommended to Watch: \" + next_movie(movie_description))"
   ]
  },
  {
   "cell_type": "code",
   "execution_count": null,
   "id": "edd6ad15",
   "metadata": {},
   "outputs": [],
   "source": []
  }
 ],
 "metadata": {
  "kernelspec": {
   "display_name": "Python 3 (ipykernel)",
   "language": "python",
   "name": "python3"
  },
  "language_info": {
   "codemirror_mode": {
    "name": "ipython",
    "version": 3
   },
   "file_extension": ".py",
   "mimetype": "text/x-python",
   "name": "python",
   "nbconvert_exporter": "python",
   "pygments_lexer": "ipython3",
   "version": "3.9.12"
  }
 },
 "nbformat": 4,
 "nbformat_minor": 5
}
