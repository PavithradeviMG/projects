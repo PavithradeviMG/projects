{
 "cells": [
  {
   "cell_type": "code",
   "execution_count": 136,
   "id": "bd1d3697",
   "metadata": {},
   "outputs": [
    {
     "name": "stdout",
     "output_type": "stream",
     "text": [
      "This is a string inserted \n"
     ]
    }
   ],
   "source": [
    "print('This is a string{} '.format (' inserted'))"
   ]
  },
  {
   "cell_type": "code",
   "execution_count": 137,
   "id": "3dd4cc4e",
   "metadata": {},
   "outputs": [
    {
     "name": "stdout",
     "output_type": "stream",
     "text": [
      "The quick  fox quick\n"
     ]
    }
   ],
   "source": [
    "print('The {2} {0} {2}' .format(' fox','brown','quick'))"
   ]
  },
  {
   "cell_type": "code",
   "execution_count": 138,
   "id": "f57e965a",
   "metadata": {},
   "outputs": [
    {
     "name": "stdout",
     "output_type": "stream",
     "text": [
      "The artificial intelligence,python,neural network\n"
     ]
    }
   ],
   "source": [
    "print('The {a},{p},{n}'.format(p='python',a='artificial intelligence',n='neural network'))"
   ]
  },
  {
   "cell_type": "code",
   "execution_count": 139,
   "id": "be38e165",
   "metadata": {},
   "outputs": [],
   "source": [
    "result=1000/777"
   ]
  },
  {
   "cell_type": "code",
   "execution_count": 140,
   "id": "4c05b7a9",
   "metadata": {},
   "outputs": [
    {
     "data": {
      "text/plain": [
       "1.287001287001287"
      ]
     },
     "execution_count": 140,
     "metadata": {},
     "output_type": "execute_result"
    }
   ],
   "source": [
    "result"
   ]
  },
  {
   "cell_type": "code",
   "execution_count": 141,
   "id": "af14076c",
   "metadata": {},
   "outputs": [
    {
     "name": "stdout",
     "output_type": "stream",
     "text": [
      "The result was 1.287001287001287\n"
     ]
    }
   ],
   "source": [
    "print ('The result was {}'.format(result))"
   ]
  },
  {
   "cell_type": "code",
   "execution_count": 142,
   "id": "8786cab9",
   "metadata": {},
   "outputs": [
    {
     "name": "stdout",
     "output_type": "stream",
     "text": [
      "The result was 1.287001287001287\n"
     ]
    }
   ],
   "source": [
    "print( 'The result was {R}'.format(R=result) )"
   ]
  },
  {
   "cell_type": "code",
   "execution_count": 143,
   "id": "e89e9232",
   "metadata": {},
   "outputs": [
    {
     "name": "stdout",
     "output_type": "stream",
     "text": [
      "The result was 1.29\n"
     ]
    }
   ],
   "source": [
    "print ('The result was{R:5.2f}'.format(R=result))"
   ]
  },
  {
   "cell_type": "code",
   "execution_count": 144,
   "id": "b9aafbb8",
   "metadata": {},
   "outputs": [],
   "source": [
    "name='lalith Nirupamaa'"
   ]
  },
  {
   "cell_type": "code",
   "execution_count": 145,
   "id": "0b1486be",
   "metadata": {},
   "outputs": [
    {
     "name": "stdout",
     "output_type": "stream",
     "text": [
      "hello, her name is lalith Nirupamaa\n"
     ]
    }
   ],
   "source": [
    "print(f'hello, her name is {name}' )"
   ]
  },
  {
   "cell_type": "code",
   "execution_count": 146,
   "id": "86404a90",
   "metadata": {},
   "outputs": [],
   "source": [
    "name='kavin'\n",
    "age=6"
   ]
  },
  {
   "cell_type": "code",
   "execution_count": 147,
   "id": "eb0eec49",
   "metadata": {},
   "outputs": [
    {
     "name": "stdout",
     "output_type": "stream",
     "text": [
      "kavin is 6  years old\n"
     ]
    }
   ],
   "source": [
    "print(f'{name} is {age}  years old')"
   ]
  },
  {
   "cell_type": "code",
   "execution_count": 148,
   "id": "d05c7582",
   "metadata": {},
   "outputs": [],
   "source": [
    "my_list=[1,2,3]"
   ]
  },
  {
   "cell_type": "code",
   "execution_count": 149,
   "id": "01f6edbc",
   "metadata": {},
   "outputs": [],
   "source": [
    "my_list=['kavin',35,20.87]"
   ]
  },
  {
   "cell_type": "code",
   "execution_count": 150,
   "id": "4c099ae4",
   "metadata": {},
   "outputs": [
    {
     "data": {
      "text/plain": [
       "3"
      ]
     },
     "execution_count": 150,
     "metadata": {},
     "output_type": "execute_result"
    }
   ],
   "source": [
    "len(my_list)"
   ]
  },
  {
   "cell_type": "code",
   "execution_count": 151,
   "id": "f3e09a66",
   "metadata": {},
   "outputs": [],
   "source": [
    "mylist=['one','two','three']"
   ]
  },
  {
   "cell_type": "code",
   "execution_count": 152,
   "id": "9a3188b2",
   "metadata": {},
   "outputs": [
    {
     "data": {
      "text/plain": [
       "'one'"
      ]
     },
     "execution_count": 152,
     "metadata": {},
     "output_type": "execute_result"
    }
   ],
   "source": [
    "mylist[0]"
   ]
  },
  {
   "cell_type": "code",
   "execution_count": 153,
   "id": "ec2cb3cb",
   "metadata": {},
   "outputs": [
    {
     "data": {
      "text/plain": [
       "['two', 'three']"
      ]
     },
     "execution_count": 153,
     "metadata": {},
     "output_type": "execute_result"
    }
   ],
   "source": [
    "mylist[1:]"
   ]
  },
  {
   "cell_type": "code",
   "execution_count": 154,
   "id": "bacb2ad4",
   "metadata": {},
   "outputs": [
    {
     "data": {
      "text/plain": [
       "['one', 'two', 'three', 'kavin', 35, 20.87]"
      ]
     },
     "execution_count": 154,
     "metadata": {},
     "output_type": "execute_result"
    }
   ],
   "source": [
    "mylist+my_list"
   ]
  },
  {
   "cell_type": "code",
   "execution_count": 155,
   "id": "c43b8932",
   "metadata": {},
   "outputs": [],
   "source": [
    "newlist=my_list+mylist"
   ]
  },
  {
   "cell_type": "code",
   "execution_count": 156,
   "id": "36a9e7e0",
   "metadata": {},
   "outputs": [
    {
     "data": {
      "text/plain": [
       "['kavin', 35, 20.87, 'one', 'two', 'three']"
      ]
     },
     "execution_count": 156,
     "metadata": {},
     "output_type": "execute_result"
    }
   ],
   "source": [
    "newlist"
   ]
  },
  {
   "cell_type": "code",
   "execution_count": 157,
   "id": "eb265abd",
   "metadata": {},
   "outputs": [],
   "source": [
    "newlist[0]='Lalith'"
   ]
  },
  {
   "cell_type": "code",
   "execution_count": 158,
   "id": "8f34fa50",
   "metadata": {},
   "outputs": [
    {
     "data": {
      "text/plain": [
       "['Lalith', 35, 20.87, 'one', 'two', 'three']"
      ]
     },
     "execution_count": 158,
     "metadata": {},
     "output_type": "execute_result"
    }
   ],
   "source": [
    "newlist"
   ]
  },
  {
   "cell_type": "code",
   "execution_count": 159,
   "id": "9eec59ce",
   "metadata": {},
   "outputs": [],
   "source": [
    "newlist.append('Muthukumar')"
   ]
  },
  {
   "cell_type": "code",
   "execution_count": 160,
   "id": "b9a23068",
   "metadata": {},
   "outputs": [
    {
     "data": {
      "text/plain": [
       "['Lalith', 35, 20.87, 'one', 'two', 'three', 'Muthukumar']"
      ]
     },
     "execution_count": 160,
     "metadata": {},
     "output_type": "execute_result"
    }
   ],
   "source": [
    "newlist"
   ]
  },
  {
   "cell_type": "code",
   "execution_count": 161,
   "id": "cf6557af",
   "metadata": {},
   "outputs": [
    {
     "data": {
      "text/plain": [
       "'Muthukumar'"
      ]
     },
     "execution_count": 161,
     "metadata": {},
     "output_type": "execute_result"
    }
   ],
   "source": [
    "newlist.pop()"
   ]
  },
  {
   "cell_type": "code",
   "execution_count": 162,
   "id": "3162858a",
   "metadata": {},
   "outputs": [
    {
     "data": {
      "text/plain": [
       "20.87"
      ]
     },
     "execution_count": 162,
     "metadata": {},
     "output_type": "execute_result"
    }
   ],
   "source": [
    "newlist.pop(2)"
   ]
  },
  {
   "cell_type": "code",
   "execution_count": 163,
   "id": "a6653399",
   "metadata": {},
   "outputs": [],
   "source": [
    "newlist= ['muthukumar','lalith',35,45.33,27]"
   ]
  },
  {
   "cell_type": "code",
   "execution_count": 164,
   "id": "3ad8f376",
   "metadata": {},
   "outputs": [
    {
     "data": {
      "text/plain": [
       "['muthukumar', 'lalith', 35, 45.33, 27]"
      ]
     },
     "execution_count": 164,
     "metadata": {},
     "output_type": "execute_result"
    }
   ],
   "source": [
    "newlist"
   ]
  },
  {
   "cell_type": "code",
   "execution_count": 165,
   "id": "5ab8e284",
   "metadata": {},
   "outputs": [],
   "source": [
    "newlist.append('kavin')"
   ]
  },
  {
   "cell_type": "code",
   "execution_count": 166,
   "id": "e79084a3",
   "metadata": {},
   "outputs": [
    {
     "data": {
      "text/plain": [
       "['muthukumar', 'lalith', 35, 45.33, 27, 'kavin']"
      ]
     },
     "execution_count": 166,
     "metadata": {},
     "output_type": "execute_result"
    }
   ],
   "source": [
    "newlist"
   ]
  },
  {
   "cell_type": "code",
   "execution_count": 167,
   "id": "11f4037e",
   "metadata": {},
   "outputs": [],
   "source": [
    "newlist.append(77)"
   ]
  },
  {
   "cell_type": "code",
   "execution_count": 168,
   "id": "84ca0f16",
   "metadata": {},
   "outputs": [
    {
     "data": {
      "text/plain": [
       "['muthukumar', 'lalith', 35, 45.33, 27, 'kavin', 77]"
      ]
     },
     "execution_count": 168,
     "metadata": {},
     "output_type": "execute_result"
    }
   ],
   "source": [
    "newlist"
   ]
  },
  {
   "cell_type": "code",
   "execution_count": 169,
   "id": "53016ed2",
   "metadata": {},
   "outputs": [
    {
     "data": {
      "text/plain": [
       "77"
      ]
     },
     "execution_count": 169,
     "metadata": {},
     "output_type": "execute_result"
    }
   ],
   "source": [
    "newlist.pop()"
   ]
  },
  {
   "cell_type": "code",
   "execution_count": 170,
   "id": "20a931bb",
   "metadata": {},
   "outputs": [
    {
     "data": {
      "text/plain": [
       "35"
      ]
     },
     "execution_count": 170,
     "metadata": {},
     "output_type": "execute_result"
    }
   ],
   "source": [
    "newlist.pop(2)"
   ]
  },
  {
   "cell_type": "code",
   "execution_count": 171,
   "id": "3cfad4a9",
   "metadata": {},
   "outputs": [],
   "source": [
    "newlist=['a','d','g','b','f']\n",
    "numb_list=[8,3,5,9,12,1]"
   ]
  },
  {
   "cell_type": "code",
   "execution_count": 172,
   "id": "1e47ec00",
   "metadata": {},
   "outputs": [],
   "source": [
    "newlist.sort()"
   ]
  },
  {
   "cell_type": "code",
   "execution_count": 173,
   "id": "d3a2c23e",
   "metadata": {},
   "outputs": [
    {
     "data": {
      "text/plain": [
       "['a', 'b', 'd', 'f', 'g']"
      ]
     },
     "execution_count": 173,
     "metadata": {},
     "output_type": "execute_result"
    }
   ],
   "source": [
    "newlist"
   ]
  },
  {
   "cell_type": "code",
   "execution_count": 174,
   "id": "8fe4271f",
   "metadata": {},
   "outputs": [],
   "source": [
    "numb_list.sort()"
   ]
  },
  {
   "cell_type": "code",
   "execution_count": 175,
   "id": "71a091fa",
   "metadata": {},
   "outputs": [
    {
     "data": {
      "text/plain": [
       "[1, 3, 5, 8, 9, 12]"
      ]
     },
     "execution_count": 175,
     "metadata": {},
     "output_type": "execute_result"
    }
   ],
   "source": [
    "numb_list"
   ]
  },
  {
   "cell_type": "code",
   "execution_count": 176,
   "id": "a3be702e",
   "metadata": {},
   "outputs": [],
   "source": [
    "numb_list.reverse()"
   ]
  },
  {
   "cell_type": "code",
   "execution_count": 177,
   "id": "0bf14db0",
   "metadata": {},
   "outputs": [
    {
     "data": {
      "text/plain": [
       "[12, 9, 8, 5, 3, 1]"
      ]
     },
     "execution_count": 177,
     "metadata": {},
     "output_type": "execute_result"
    }
   ],
   "source": [
    "numb_list"
   ]
  },
  {
   "cell_type": "code",
   "execution_count": 178,
   "id": "5396dabc",
   "metadata": {},
   "outputs": [],
   "source": [
    "my_dict={'key1':'value1','key2':'value2'}"
   ]
  },
  {
   "cell_type": "code",
   "execution_count": 179,
   "id": "28428366",
   "metadata": {},
   "outputs": [
    {
     "data": {
      "text/plain": [
       "{'key1': 'value1', 'key2': 'value2'}"
      ]
     },
     "execution_count": 179,
     "metadata": {},
     "output_type": "execute_result"
    }
   ],
   "source": [
    "my_dict"
   ]
  },
  {
   "cell_type": "code",
   "execution_count": 180,
   "id": "28e0e77c",
   "metadata": {},
   "outputs": [
    {
     "data": {
      "text/plain": [
       "'value1'"
      ]
     },
     "execution_count": 180,
     "metadata": {},
     "output_type": "execute_result"
    }
   ],
   "source": [
    "my_dict['key1']"
   ]
  },
  {
   "cell_type": "code",
   "execution_count": 181,
   "id": "af15a1a2",
   "metadata": {},
   "outputs": [],
   "source": [
    "price_lookup={'apple':3.11,'orange':1.77,'banana':3.5}"
   ]
  },
  {
   "cell_type": "code",
   "execution_count": 182,
   "id": "3d160846",
   "metadata": {},
   "outputs": [
    {
     "data": {
      "text/plain": [
       "{'apple': 3.11, 'orange': 1.77, 'banana': 3.5}"
      ]
     },
     "execution_count": 182,
     "metadata": {},
     "output_type": "execute_result"
    }
   ],
   "source": [
    "price_lookup"
   ]
  },
  {
   "cell_type": "code",
   "execution_count": 183,
   "id": "fe071d90",
   "metadata": {},
   "outputs": [
    {
     "data": {
      "text/plain": [
       "3.11"
      ]
     },
     "execution_count": 183,
     "metadata": {},
     "output_type": "execute_result"
    }
   ],
   "source": [
    "price_lookup['apple']"
   ]
  },
  {
   "cell_type": "code",
   "execution_count": 184,
   "id": "7706aa63",
   "metadata": {},
   "outputs": [],
   "source": [
    "prices_lookup={'milk':3.44,'water':1.0,'sunflower_oil':5.99}"
   ]
  },
  {
   "cell_type": "code",
   "execution_count": 185,
   "id": "9fc98c74",
   "metadata": {},
   "outputs": [
    {
     "data": {
      "text/plain": [
       "5.99"
      ]
     },
     "execution_count": 185,
     "metadata": {},
     "output_type": "execute_result"
    }
   ],
   "source": [
    "prices_lookup['sunflower_oil']"
   ]
  },
  {
   "cell_type": "code",
   "execution_count": 186,
   "id": "2e323405",
   "metadata": {},
   "outputs": [],
   "source": [
    "d={'k1':456,'k2':[4,3,0],'k3':{'password':900}}"
   ]
  },
  {
   "cell_type": "code",
   "execution_count": 187,
   "id": "998a3fe9",
   "metadata": {},
   "outputs": [
    {
     "data": {
      "text/plain": [
       "{'password': 900}"
      ]
     },
     "execution_count": 187,
     "metadata": {},
     "output_type": "execute_result"
    }
   ],
   "source": [
    "d['k3']"
   ]
  },
  {
   "cell_type": "code",
   "execution_count": 188,
   "id": "60ee5ded",
   "metadata": {},
   "outputs": [],
   "source": [
    "d={'key1':['a','b','c']}"
   ]
  },
  {
   "cell_type": "code",
   "execution_count": 189,
   "id": "b09d4283",
   "metadata": {},
   "outputs": [],
   "source": [
    "my_list=d['key1']"
   ]
  },
  {
   "cell_type": "code",
   "execution_count": 190,
   "id": "47cfa0e1",
   "metadata": {},
   "outputs": [
    {
     "data": {
      "text/plain": [
       "['a', 'b', 'c']"
      ]
     },
     "execution_count": 190,
     "metadata": {},
     "output_type": "execute_result"
    }
   ],
   "source": [
    "my_list"
   ]
  },
  {
   "cell_type": "code",
   "execution_count": 191,
   "id": "b0317027",
   "metadata": {},
   "outputs": [
    {
     "data": {
      "text/plain": [
       "'c'"
      ]
     },
     "execution_count": 191,
     "metadata": {},
     "output_type": "execute_result"
    }
   ],
   "source": [
    "my_list[2]"
   ]
  },
  {
   "cell_type": "code",
   "execution_count": 192,
   "id": "f301b45c",
   "metadata": {},
   "outputs": [],
   "source": [
    "letter=my_list[2]"
   ]
  },
  {
   "cell_type": "code",
   "execution_count": 193,
   "id": "b6d70552",
   "metadata": {},
   "outputs": [
    {
     "data": {
      "text/plain": [
       "'C'"
      ]
     },
     "execution_count": 193,
     "metadata": {},
     "output_type": "execute_result"
    }
   ],
   "source": [
    "letter.upper()"
   ]
  },
  {
   "cell_type": "code",
   "execution_count": 194,
   "id": "5af60969",
   "metadata": {},
   "outputs": [
    {
     "data": {
      "text/plain": [
       "'C'"
      ]
     },
     "execution_count": 194,
     "metadata": {},
     "output_type": "execute_result"
    }
   ],
   "source": [
    "d['key1'][2].upper()"
   ]
  },
  {
   "cell_type": "code",
   "execution_count": 195,
   "id": "c2fa511e",
   "metadata": {},
   "outputs": [],
   "source": [
    "d={'k1':100,'k2':200}"
   ]
  },
  {
   "cell_type": "code",
   "execution_count": 196,
   "id": "4379a2dd",
   "metadata": {},
   "outputs": [
    {
     "data": {
      "text/plain": [
       "{'k1': 100, 'k2': 200}"
      ]
     },
     "execution_count": 196,
     "metadata": {},
     "output_type": "execute_result"
    }
   ],
   "source": [
    "d"
   ]
  },
  {
   "cell_type": "code",
   "execution_count": 197,
   "id": "2eda9fc4",
   "metadata": {},
   "outputs": [],
   "source": [
    "d['k3']=300"
   ]
  },
  {
   "cell_type": "code",
   "execution_count": 198,
   "id": "750e90fe",
   "metadata": {},
   "outputs": [
    {
     "data": {
      "text/plain": [
       "{'k1': 100, 'k2': 200, 'k3': 300}"
      ]
     },
     "execution_count": 198,
     "metadata": {},
     "output_type": "execute_result"
    }
   ],
   "source": [
    "d"
   ]
  },
  {
   "cell_type": "code",
   "execution_count": 199,
   "id": "ae9dbb7a",
   "metadata": {},
   "outputs": [],
   "source": [
    "d['k1']='new_value'"
   ]
  },
  {
   "cell_type": "code",
   "execution_count": 200,
   "id": "c2ac1adf",
   "metadata": {},
   "outputs": [
    {
     "data": {
      "text/plain": [
       "{'k1': 'new_value', 'k2': 200, 'k3': 300}"
      ]
     },
     "execution_count": 200,
     "metadata": {},
     "output_type": "execute_result"
    }
   ],
   "source": [
    "d"
   ]
  },
  {
   "cell_type": "code",
   "execution_count": 201,
   "id": "02c26390",
   "metadata": {},
   "outputs": [
    {
     "data": {
      "text/plain": [
       "dict_keys(['k1', 'k2', 'k3'])"
      ]
     },
     "execution_count": 201,
     "metadata": {},
     "output_type": "execute_result"
    }
   ],
   "source": [
    "d.keys()"
   ]
  },
  {
   "cell_type": "code",
   "execution_count": 202,
   "id": "731fa2ac",
   "metadata": {},
   "outputs": [
    {
     "data": {
      "text/plain": [
       "dict_values(['new_value', 200, 300])"
      ]
     },
     "execution_count": 202,
     "metadata": {},
     "output_type": "execute_result"
    }
   ],
   "source": [
    "d.values()"
   ]
  },
  {
   "cell_type": "code",
   "execution_count": 203,
   "id": "4c9ccdda",
   "metadata": {},
   "outputs": [
    {
     "data": {
      "text/plain": [
       "dict_items([('k1', 'new_value'), ('k2', 200), ('k3', 300)])"
      ]
     },
     "execution_count": 203,
     "metadata": {},
     "output_type": "execute_result"
    }
   ],
   "source": [
    "d.items()"
   ]
  },
  {
   "cell_type": "code",
   "execution_count": 204,
   "id": "c0bdc4d5",
   "metadata": {},
   "outputs": [],
   "source": [
    "t=(1,2,3)"
   ]
  },
  {
   "cell_type": "code",
   "execution_count": 205,
   "id": "772e0ced",
   "metadata": {},
   "outputs": [],
   "source": [
    "mylist=[1,2,3]"
   ]
  },
  {
   "cell_type": "code",
   "execution_count": 206,
   "id": "412e3d38",
   "metadata": {},
   "outputs": [
    {
     "data": {
      "text/plain": [
       "tuple"
      ]
     },
     "execution_count": 206,
     "metadata": {},
     "output_type": "execute_result"
    }
   ],
   "source": [
    "type(t)"
   ]
  },
  {
   "cell_type": "code",
   "execution_count": 207,
   "id": "5c7dc227",
   "metadata": {},
   "outputs": [
    {
     "data": {
      "text/plain": [
       "list"
      ]
     },
     "execution_count": 207,
     "metadata": {},
     "output_type": "execute_result"
    }
   ],
   "source": [
    "type(mylist)"
   ]
  },
  {
   "cell_type": "code",
   "execution_count": 208,
   "id": "f36ee0a4",
   "metadata": {},
   "outputs": [
    {
     "data": {
      "text/plain": [
       "3"
      ]
     },
     "execution_count": 208,
     "metadata": {},
     "output_type": "execute_result"
    }
   ],
   "source": [
    "len(t)"
   ]
  },
  {
   "cell_type": "code",
   "execution_count": 209,
   "id": "694ce801",
   "metadata": {},
   "outputs": [],
   "source": [
    "t=('a','a','b')"
   ]
  },
  {
   "cell_type": "code",
   "execution_count": 210,
   "id": "24197f0f",
   "metadata": {},
   "outputs": [
    {
     "data": {
      "text/plain": [
       "2"
      ]
     },
     "execution_count": 210,
     "metadata": {},
     "output_type": "execute_result"
    }
   ],
   "source": [
    "t.count('a')"
   ]
  },
  {
   "cell_type": "code",
   "execution_count": 211,
   "id": "912d3ab6",
   "metadata": {},
   "outputs": [
    {
     "data": {
      "text/plain": [
       "0"
      ]
     },
     "execution_count": 211,
     "metadata": {},
     "output_type": "execute_result"
    }
   ],
   "source": [
    "t.index('a')"
   ]
  },
  {
   "cell_type": "code",
   "execution_count": 212,
   "id": "1fad4feb",
   "metadata": {},
   "outputs": [
    {
     "data": {
      "text/plain": [
       "2"
      ]
     },
     "execution_count": 212,
     "metadata": {},
     "output_type": "execute_result"
    }
   ],
   "source": [
    "t.index('b')"
   ]
  },
  {
   "cell_type": "code",
   "execution_count": 213,
   "id": "ca3b977f",
   "metadata": {},
   "outputs": [],
   "source": [
    "newlist=('new',2,3)"
   ]
  },
  {
   "cell_type": "code",
   "execution_count": 214,
   "id": "7dc32eac",
   "metadata": {},
   "outputs": [
    {
     "data": {
      "text/plain": [
       "'new'"
      ]
     },
     "execution_count": 214,
     "metadata": {},
     "output_type": "execute_result"
    }
   ],
   "source": [
    "newlist[0]"
   ]
  },
  {
   "cell_type": "code",
   "execution_count": 215,
   "id": "3fcdad27",
   "metadata": {},
   "outputs": [
    {
     "ename": "TypeError",
     "evalue": "'tuple' object does not support item assignment",
     "output_type": "error",
     "traceback": [
      "\u001b[1;31m---------------------------------------------------------------------------\u001b[0m",
      "\u001b[1;31mTypeError\u001b[0m                                 Traceback (most recent call last)",
      "Input \u001b[1;32mIn [215]\u001b[0m, in \u001b[0;36m<cell line: 1>\u001b[1;34m()\u001b[0m\n\u001b[1;32m----> 1\u001b[0m newlist[\u001b[38;5;241m0\u001b[39m]\u001b[38;5;241m=\u001b[39m\u001b[38;5;124m'\u001b[39m\u001b[38;5;124mNEW\u001b[39m\u001b[38;5;124m'\u001b[39m\n",
      "\u001b[1;31mTypeError\u001b[0m: 'tuple' object does not support item assignment"
     ]
    }
   ],
   "source": [
    "newlist[0]='NEW'"
   ]
  },
  {
   "cell_type": "code",
   "execution_count": 216,
   "id": "4146a147",
   "metadata": {},
   "outputs": [],
   "source": [
    "my_set=set()"
   ]
  },
  {
   "cell_type": "code",
   "execution_count": 217,
   "id": "2a7e72d4",
   "metadata": {},
   "outputs": [
    {
     "ename": "TypeError",
     "evalue": "'int' object is not iterable",
     "output_type": "error",
     "traceback": [
      "\u001b[1;31m---------------------------------------------------------------------------\u001b[0m",
      "\u001b[1;31mTypeError\u001b[0m                                 Traceback (most recent call last)",
      "Input \u001b[1;32mIn [217]\u001b[0m, in \u001b[0;36m<cell line: 1>\u001b[1;34m()\u001b[0m\n\u001b[1;32m----> 1\u001b[0m my_set\u001b[38;5;241m=\u001b[39m\u001b[38;5;28;43mset\u001b[39;49m\u001b[43m(\u001b[49m\u001b[38;5;241;43m1\u001b[39;49m\u001b[43m)\u001b[49m\n",
      "\u001b[1;31mTypeError\u001b[0m: 'int' object is not iterable"
     ]
    }
   ],
   "source": [
    "my_set=set(1)"
   ]
  },
  {
   "cell_type": "code",
   "execution_count": 218,
   "id": "93182850",
   "metadata": {},
   "outputs": [
    {
     "ename": "NameError",
     "evalue": "name 'myset' is not defined",
     "output_type": "error",
     "traceback": [
      "\u001b[1;31m---------------------------------------------------------------------------\u001b[0m",
      "\u001b[1;31mNameError\u001b[0m                                 Traceback (most recent call last)",
      "Input \u001b[1;32mIn [218]\u001b[0m, in \u001b[0;36m<cell line: 1>\u001b[1;34m()\u001b[0m\n\u001b[1;32m----> 1\u001b[0m \u001b[43mmyset\u001b[49m\u001b[38;5;241m.\u001b[39madd(\u001b[38;5;241m2\u001b[39m)\n",
      "\u001b[1;31mNameError\u001b[0m: name 'myset' is not defined"
     ]
    }
   ],
   "source": [
    "myset.add(2)"
   ]
  },
  {
   "cell_type": "code",
   "execution_count": 219,
   "id": "f02588f1",
   "metadata": {},
   "outputs": [],
   "source": [
    "my_set=set()"
   ]
  },
  {
   "cell_type": "code",
   "execution_count": 220,
   "id": "6de18903",
   "metadata": {},
   "outputs": [],
   "source": [
    "my_set.add(2)"
   ]
  },
  {
   "cell_type": "code",
   "execution_count": 221,
   "id": "f94017b5",
   "metadata": {},
   "outputs": [
    {
     "data": {
      "text/plain": [
       "{2}"
      ]
     },
     "execution_count": 221,
     "metadata": {},
     "output_type": "execute_result"
    }
   ],
   "source": [
    "my_set"
   ]
  },
  {
   "cell_type": "code",
   "execution_count": 222,
   "id": "b5678e70",
   "metadata": {},
   "outputs": [],
   "source": [
    "my_set.add(5)"
   ]
  },
  {
   "cell_type": "code",
   "execution_count": 223,
   "id": "8ba2e726",
   "metadata": {},
   "outputs": [
    {
     "data": {
      "text/plain": [
       "{2, 5}"
      ]
     },
     "execution_count": 223,
     "metadata": {},
     "output_type": "execute_result"
    }
   ],
   "source": [
    "my_set"
   ]
  },
  {
   "cell_type": "code",
   "execution_count": 224,
   "id": "de4c7f89",
   "metadata": {},
   "outputs": [],
   "source": [
    "my_set.add(5)"
   ]
  },
  {
   "cell_type": "code",
   "execution_count": 225,
   "id": "1f9caa14",
   "metadata": {},
   "outputs": [
    {
     "data": {
      "text/plain": [
       "{2, 5}"
      ]
     },
     "execution_count": 225,
     "metadata": {},
     "output_type": "execute_result"
    }
   ],
   "source": [
    "my_set"
   ]
  },
  {
   "cell_type": "code",
   "execution_count": 227,
   "id": "c5ceac10",
   "metadata": {},
   "outputs": [],
   "source": [
    "mylist=[1,1,1,12,2,3,34,]"
   ]
  },
  {
   "cell_type": "code",
   "execution_count": 228,
   "id": "40e35de1",
   "metadata": {},
   "outputs": [
    {
     "data": {
      "text/plain": [
       "{1, 2, 3, 12, 34}"
      ]
     },
     "execution_count": 228,
     "metadata": {},
     "output_type": "execute_result"
    }
   ],
   "source": [
    "set(mylist)"
   ]
  },
  {
   "cell_type": "code",
   "execution_count": null,
   "id": "8eaeff4d",
   "metadata": {},
   "outputs": [],
   "source": []
  }
 ],
 "metadata": {
  "kernelspec": {
   "display_name": "Python 3 (ipykernel)",
   "language": "python",
   "name": "python3"
  },
  "language_info": {
   "codemirror_mode": {
    "name": "ipython",
    "version": 3
   },
   "file_extension": ".py",
   "mimetype": "text/x-python",
   "name": "python",
   "nbconvert_exporter": "python",
   "pygments_lexer": "ipython3",
   "version": "3.9.12"
  }
 },
 "nbformat": 4,
 "nbformat_minor": 5
}
