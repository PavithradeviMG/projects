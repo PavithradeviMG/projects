{
 "cells": [
  {
   "cell_type": "code",
   "execution_count": 2,
   "id": "40073c80",
   "metadata": {},
   "outputs": [],
   "source": [
    "import spacy"
   ]
  },
  {
   "cell_type": "code",
   "execution_count": 3,
   "id": "cfb681ff",
   "metadata": {},
   "outputs": [],
   "source": [
    "nlp = spacy.load('en_core_web_md')"
   ]
  },
  {
   "cell_type": "code",
   "execution_count": 4,
   "id": "8a94c2f0",
   "metadata": {},
   "outputs": [
    {
     "name": "stdout",
     "output_type": "stream",
     "text": [
      "0.3325463550139417\n",
      "0.6340912166013265\n",
      "0.4777847588161717\n"
     ]
    }
   ],
   "source": [
    "word1 = nlp(\"Banana\")\n",
    "word2 = nlp(\"Cat\")\n",
    "word3 = nlp(\"Monkey\")\n",
    "\n",
    "print(word1.similarity(word2))\n",
    "print(word2.similarity(word3))\n",
    "print(word1.similarity(word3))"
   ]
  },
  {
   "cell_type": "code",
   "execution_count": 9,
   "id": "514ff50a",
   "metadata": {},
   "outputs": [
    {
     "name": "stdout",
     "output_type": "stream",
     "text": [
      "cat cat 1.0\n",
      "cat milk 0.22972984611988068\n",
      "cat monkey 0.5929929614067078\n",
      "cat banana 0.2235882729291916\n",
      "milk cat 0.22972984611988068\n",
      "milk milk 1.0\n",
      "milk monkey 0.16944406926631927\n",
      "milk banana 0.48031964898109436\n",
      "monkey cat 0.5929929614067078\n",
      "monkey milk 0.16944406926631927\n",
      "monkey monkey 1.0\n",
      "monkey banana 0.404150128364563\n",
      "banana cat 0.2235882729291916\n",
      "banana milk 0.48031964898109436\n",
      "banana monkey 0.404150128364563\n",
      "banana banana 1.0\n"
     ]
    }
   ],
   "source": [
    "#tokens = nlp('cat apple monkey banana')\n",
    "tokens = nlp ('cat milk monkey banana')\n",
    "for token1 in tokens:\n",
    "    for token2 in tokens:\n",
    "        print(token1.text,token2.text,token1.similarity(token2))"
   ]
  },
  {
   "cell_type": "markdown",
   "id": "db40165d",
   "metadata": {},
   "source": [
    "As decribed in the pdf the same observed from the monkey and banana(monkey banana 0.404150128364563) though they are in different group fruit and animal. it create a curiosity to find the similarity between cat and milk(cat milk 0.22972984611988068) but it disappointed me."
   ]
  },
  {
   "cell_type": "code",
   "execution_count": 8,
   "id": "d7088f1c",
   "metadata": {},
   "outputs": [
    {
     "name": "stdout",
     "output_type": "stream",
     "text": [
      "Wher did my dog go - 0.6085941257210434\n",
      "Hello, There is my car - 0.7914211168930609\n",
      "I've lost my car in my car - 0.6787541521638475\n",
      "I 'd like my boat back - 0.5624940476146296\n",
      "I will name my dog Diana - 0.6491444691953406\n"
     ]
    }
   ],
   "source": [
    "sentence_to_compare = \"Why my cat is on the car\"\n",
    "sentences =[\"Wher did my dog go\",\n",
    "           \"Hello, There is my car\",\n",
    "           \"I\\'ve lost my car in my car\",\n",
    "           \"I \\'d like my boat back\",\n",
    "            \"I will name my dog Diana\"]\n",
    "model_sentence = nlp(sentence_to_compare)\n",
    "\n",
    "for sentence in sentences:\n",
    "    similarity = nlp(sentence).similarity(model_sentence)\n",
    "    print(sentence + ' -',similarity)"
   ]
  },
  {
   "cell_type": "code",
   "execution_count": null,
   "id": "fdc087d8",
   "metadata": {},
   "outputs": [],
   "source": []
  }
 ],
 "metadata": {
  "kernelspec": {
   "display_name": "Python 3 (ipykernel)",
   "language": "python",
   "name": "python3"
  },
  "language_info": {
   "codemirror_mode": {
    "name": "ipython",
    "version": 3
   },
   "file_extension": ".py",
   "mimetype": "text/x-python",
   "name": "python",
   "nbconvert_exporter": "python",
   "pygments_lexer": "ipython3",
   "version": "3.9.12"
  }
 },
 "nbformat": 4,
 "nbformat_minor": 5
}
