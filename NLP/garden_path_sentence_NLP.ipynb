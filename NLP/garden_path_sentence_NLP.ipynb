{
 "cells": [
  {
   "cell_type": "code",
   "execution_count": 1,
   "id": "002d5419",
   "metadata": {},
   "outputs": [],
   "source": [
    "import spacy\n",
    "\n",
    "nlp = spacy.load(\"en_core_web_sm\")\n",
    "\n",
    "gardenpathSentences = [\n",
    "    \"The old man the boats.\",\n",
    "    \"The man whistling tunes pianos.\"\n",
    "]"
   ]
  },
  {
   "cell_type": "code",
   "execution_count": 2,
   "id": "fed4c10f",
   "metadata": {},
   "outputs": [
    {
     "name": "stdout",
     "output_type": "stream",
     "text": [
      "Token: The, POS: DET, Tag: DT, Entity: \n",
      "Token: old, POS: ADJ, Tag: JJ, Entity: \n",
      "Token: man, POS: NOUN, Tag: NN, Entity: \n",
      "Token: the, POS: DET, Tag: DT, Entity: \n",
      "Token: boats, POS: NOUN, Tag: NNS, Entity: \n",
      "Token: ., POS: PUNCT, Tag: ., Entity: \n",
      "----\n",
      "Token: The, POS: DET, Tag: DT, Entity: \n",
      "Token: man, POS: NOUN, Tag: NN, Entity: \n",
      "Token: whistling, POS: VERB, Tag: VBG, Entity: \n",
      "Token: tunes, POS: NOUN, Tag: NNS, Entity: \n",
      "Token: pianos, POS: NOUN, Tag: NNS, Entity: \n",
      "Token: ., POS: PUNCT, Tag: ., Entity: \n",
      "----\n"
     ]
    }
   ],
   "source": [
    "for sentence in gardenpathSentences:\n",
    "    doc = nlp(sentence)\n",
    "    for token in doc:\n",
    "        print(f\"Token: {token.text}, POS: {token.pos_}, Tag: {token.tag_}, Entity: {token.ent_type_}\")\n",
    "    print(\"----\")"
   ]
  },
  {
   "cell_type": "code",
   "execution_count": null,
   "id": "621d498c",
   "metadata": {},
   "outputs": [],
   "source": []
  }
 ],
 "metadata": {
  "kernelspec": {
   "display_name": "Python 3 (ipykernel)",
   "language": "python",
   "name": "python3"
  },
  "language_info": {
   "codemirror_mode": {
    "name": "ipython",
    "version": 3
   },
   "file_extension": ".py",
   "mimetype": "text/x-python",
   "name": "python",
   "nbconvert_exporter": "python",
   "pygments_lexer": "ipython3",
   "version": "3.9.12"
  }
 },
 "nbformat": 4,
 "nbformat_minor": 5
}
