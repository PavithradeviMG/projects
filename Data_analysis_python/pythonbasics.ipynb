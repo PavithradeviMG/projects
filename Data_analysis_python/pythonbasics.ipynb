{
 "cells": [
  {
   "cell_type": "code",
   "execution_count": 10,
   "id": "5ca80cd3",
   "metadata": {},
   "outputs": [],
   "source": [
    "#first input"
   ]
  },
  {
   "cell_type": "code",
   "execution_count": 11,
   "id": "f14628e1",
   "metadata": {},
   "outputs": [
    {
     "name": "stdout",
     "output_type": "stream",
     "text": [
      "HELLO WORLD!\n"
     ]
    }
   ],
   "source": [
    "print('HELLO WORLD!')"
   ]
  },
  {
   "cell_type": "code",
   "execution_count": 12,
   "id": "830e7bfa",
   "metadata": {},
   "outputs": [],
   "source": [
    "#first numerical value"
   ]
  },
  {
   "cell_type": "code",
   "execution_count": 13,
   "id": "4ca387fb",
   "metadata": {},
   "outputs": [],
   "source": [
    "n=5+5"
   ]
  },
  {
   "cell_type": "code",
   "execution_count": 14,
   "id": "2ef1d544",
   "metadata": {},
   "outputs": [],
   "source": [
    "#print in different method"
   ]
  },
  {
   "cell_type": "code",
   "execution_count": 15,
   "id": "a9a73b44",
   "metadata": {},
   "outputs": [
    {
     "name": "stdout",
     "output_type": "stream",
     "text": [
      "10\n"
     ]
    }
   ],
   "source": [
    "print(n)"
   ]
  },
  {
   "cell_type": "code",
   "execution_count": 16,
   "id": "b1d5ebd9",
   "metadata": {},
   "outputs": [
    {
     "data": {
      "text/plain": [
       "10"
      ]
     },
     "execution_count": 16,
     "metadata": {},
     "output_type": "execute_result"
    }
   ],
   "source": [
    "n"
   ]
  },
  {
   "cell_type": "code",
   "execution_count": 17,
   "id": "0fe683d5",
   "metadata": {},
   "outputs": [],
   "source": [
    "print?"
   ]
  },
  {
   "cell_type": "code",
   "execution_count": 18,
   "id": "9e35b674",
   "metadata": {},
   "outputs": [
    {
     "data": {
      "text/plain": [
       "10"
      ]
     },
     "execution_count": 18,
     "metadata": {},
     "output_type": "execute_result"
    }
   ],
   "source": [
    "5+5"
   ]
  },
  {
   "cell_type": "code",
   "execution_count": 19,
   "id": "73538122",
   "metadata": {},
   "outputs": [
    {
     "data": {
      "text/plain": [
       "4"
      ]
     },
     "execution_count": 19,
     "metadata": {},
     "output_type": "execute_result"
    }
   ],
   "source": [
    "6-2"
   ]
  },
  {
   "cell_type": "code",
   "execution_count": 20,
   "id": "f1c20020",
   "metadata": {},
   "outputs": [
    {
     "data": {
      "text/plain": [
       "72"
      ]
     },
     "execution_count": 20,
     "metadata": {},
     "output_type": "execute_result"
    }
   ],
   "source": [
    "8*9"
   ]
  },
  {
   "cell_type": "code",
   "execution_count": 21,
   "id": "c42f4702",
   "metadata": {},
   "outputs": [
    {
     "data": {
      "text/plain": [
       "28.8"
      ]
     },
     "execution_count": 21,
     "metadata": {},
     "output_type": "execute_result"
    }
   ],
   "source": [
    "144/5"
   ]
  },
  {
   "cell_type": "code",
   "execution_count": 22,
   "id": "3d6d4a9d",
   "metadata": {},
   "outputs": [],
   "source": [
    "##Print other function"
   ]
  },
  {
   "cell_type": "code",
   "execution_count": 23,
   "id": "26dfedb3",
   "metadata": {},
   "outputs": [
    {
     "name": "stdout",
     "output_type": "stream",
     "text": [
      "Hello,My name is Pavithra\n"
     ]
    }
   ],
   "source": [
    "print(\"Hello,My name is Pavithra\")"
   ]
  },
  {
   "cell_type": "code",
   "execution_count": 24,
   "id": "8a10704c",
   "metadata": {},
   "outputs": [
    {
     "name": "stdout",
     "output_type": "stream",
     "text": [
      "Print your name here:\n"
     ]
    }
   ],
   "source": [
    "print('Print your name here:')"
   ]
  },
  {
   "cell_type": "code",
   "execution_count": 25,
   "id": "1ebe10cb",
   "metadata": {},
   "outputs": [
    {
     "data": {
      "text/plain": [
       "int"
      ]
     },
     "execution_count": 25,
     "metadata": {},
     "output_type": "execute_result"
    }
   ],
   "source": [
    "type(234)"
   ]
  },
  {
   "cell_type": "code",
   "execution_count": 26,
   "id": "fa8320fc",
   "metadata": {},
   "outputs": [
    {
     "data": {
      "text/plain": [
       "float"
      ]
     },
     "execution_count": 26,
     "metadata": {},
     "output_type": "execute_result"
    }
   ],
   "source": [
    "type(76.87654556566)"
   ]
  },
  {
   "cell_type": "code",
   "execution_count": 29,
   "id": "bdfb33c9",
   "metadata": {},
   "outputs": [
    {
     "data": {
      "text/plain": [
       "str"
      ]
     },
     "execution_count": 29,
     "metadata": {},
     "output_type": "execute_result"
    }
   ],
   "source": [
    "type('india')"
   ]
  },
  {
   "cell_type": "code",
   "execution_count": 30,
   "id": "3aa55760",
   "metadata": {},
   "outputs": [
    {
     "data": {
      "text/plain": [
       "list"
      ]
     },
     "execution_count": 30,
     "metadata": {},
     "output_type": "execute_result"
    }
   ],
   "source": [
    "type([1,3.7])"
   ]
  },
  {
   "cell_type": "code",
   "execution_count": 31,
   "id": "d02b0654",
   "metadata": {},
   "outputs": [
    {
     "data": {
      "text/plain": [
       "dict"
      ]
     },
     "execution_count": 31,
     "metadata": {},
     "output_type": "execute_result"
    }
   ],
   "source": [
    "type({'skie':45,'water':34})"
   ]
  },
  {
   "cell_type": "code",
   "execution_count": 32,
   "id": "fc368c41",
   "metadata": {},
   "outputs": [
    {
     "data": {
      "text/plain": [
       "list"
      ]
     },
     "execution_count": 32,
     "metadata": {},
     "output_type": "execute_result"
    }
   ],
   "source": [
    "type(['kavin','niru'])"
   ]
  },
  {
   "cell_type": "code",
   "execution_count": 40,
   "id": "878c3ecf",
   "metadata": {},
   "outputs": [
    {
     "data": {
      "text/plain": [
       "list"
      ]
     },
     "execution_count": 40,
     "metadata": {},
     "output_type": "execute_result"
    }
   ],
   "source": [
    "type(['muthu','subu',76])"
   ]
  },
  {
   "cell_type": "code",
   "execution_count": 41,
   "id": "15d0a067",
   "metadata": {},
   "outputs": [],
   "source": [
    "data_type=type(['muthu','subu',76])"
   ]
  },
  {
   "cell_type": "code",
   "execution_count": 42,
   "id": "32abaf8b",
   "metadata": {},
   "outputs": [
    {
     "data": {
      "text/plain": [
       "list"
      ]
     },
     "execution_count": 42,
     "metadata": {},
     "output_type": "execute_result"
    }
   ],
   "source": [
    "data_type"
   ]
  },
  {
   "cell_type": "code",
   "execution_count": null,
   "id": "fd89f9e3",
   "metadata": {},
   "outputs": [],
   "source": []
  }
 ],
 "metadata": {
  "kernelspec": {
   "display_name": "Python 3 (ipykernel)",
   "language": "python",
   "name": "python3"
  },
  "language_info": {
   "codemirror_mode": {
    "name": "ipython",
    "version": 3
   },
   "file_extension": ".py",
   "mimetype": "text/x-python",
   "name": "python",
   "nbconvert_exporter": "python",
   "pygments_lexer": "ipython3",
   "version": "3.9.12"
  }
 },
 "nbformat": 4,
 "nbformat_minor": 5
}
