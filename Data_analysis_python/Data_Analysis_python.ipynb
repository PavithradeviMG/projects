{
 "cells": [
  {
   "cell_type": "code",
   "execution_count": 1,
   "id": "87728305",
   "metadata": {},
   "outputs": [],
   "source": [
    "# Import pandas\n",
    "import pandas as pd"
   ]
  },
  {
   "cell_type": "code",
   "execution_count": 2,
   "id": "5dd78edc",
   "metadata": {},
   "outputs": [],
   "source": [
    "# Create a DataFrame with balance.txt\n",
    "df = pd.read_csv('balance.txt',delim_whitespace = True)"
   ]
  },
  {
   "cell_type": "code",
   "execution_count": 4,
   "id": "3da36d8b",
   "metadata": {},
   "outputs": [
    {
     "name": "stdout",
     "output_type": "stream",
     "text": [
      "Average Income by Ethnicity:\n",
      "Ethnicity\n",
      "African American    47.682101\n",
      "Asian               44.187833\n",
      "Caucasian           44.521945\n",
      "Name: Income, dtype: float64\n"
     ]
    }
   ],
   "source": [
    "# Compare average income based on ethnicity\n",
    "average_income_by_ethnicity = df.groupby('Ethnicity')['Income'].mean()\n",
    "print(\"Average Income by Ethnicity:\")\n",
    "print(average_income_by_ethnicity)"
   ]
  },
  {
   "cell_type": "code",
   "execution_count": 7,
   "id": "d36ae431",
   "metadata": {},
   "outputs": [
    {
     "name": "stdout",
     "output_type": "stream",
     "text": [
      "\n",
      "Average Balance by Marital Status:\n",
      "Married\n",
      "No     13.493509\n",
      "Yes    13.388473\n",
      "Name: Balance, dtype: float64\n"
     ]
    }
   ],
   "source": [
    "# Determine if married or single people have a higher balance on average\n",
    "average_balance_by_marital_status = df.groupby('Married')['Balance'].mean()\n",
    "print(\"\\nAverage Balance by Marital Status:\")\n",
    "print(average_balance_by_marital_status)\n"
   ]
  },
  {
   "cell_type": "code",
   "execution_count": 8,
   "id": "f8e14829",
   "metadata": {},
   "outputs": [
    {
     "name": "stdout",
     "output_type": "stream",
     "text": [
      "\n",
      "Highest Income:\n",
      "186.634\n"
     ]
    }
   ],
   "source": [
    "# Find the highest income in the dataset\n",
    "highest_income = df['Income'].max()\n",
    "print(\"\\nHighest Income:\")\n",
    "print(highest_income)\n"
   ]
  },
  {
   "cell_type": "code",
   "execution_count": 9,
   "id": "43499783",
   "metadata": {},
   "outputs": [
    {
     "name": "stdout",
     "output_type": "stream",
     "text": [
      "\n",
      "Lowest Income:\n",
      "10.354\n"
     ]
    }
   ],
   "source": [
    "# Find the lowest income in the dataset\n",
    "lowest_income = df['Income'].min()\n",
    "print(\"\\nLowest Income:\")\n",
    "print(lowest_income)\n"
   ]
  },
  {
   "cell_type": "code",
   "execution_count": 11,
   "id": "03f27f17",
   "metadata": {},
   "outputs": [
    {
     "name": "stdout",
     "output_type": "stream",
     "text": [
      "\n",
      "Number of Cards Recorded:\n",
      "1183\n"
     ]
    }
   ],
   "source": [
    "# Count the number of cards recorded in the dataset\n",
    "card_count = df['Cards'].sum()\n",
    "print(\"\\nNumber of Cards Recorded:\")\n",
    "print(card_count)"
   ]
  },
  {
   "cell_type": "code",
   "execution_count": 12,
   "id": "98b65df8",
   "metadata": {},
   "outputs": [
    {
     "name": "stdout",
     "output_type": "stream",
     "text": [
      "\n",
      "Number of Females and Males:\n",
      "Females: 207\n",
      "Males: 193\n"
     ]
    }
   ],
   "source": [
    "# Count the number of females and males in the dataset\n",
    "female_count = df[df['Gender'] == 'Female'].count()['Gender']\n",
    "male_count = df[df['Gender'] == 'Male'].count()['Gender']\n",
    "print(\"\\nNumber of Females and Males:\")\n",
    "print(\"Females:\", female_count)\n",
    "print(\"Males:\", male_count)"
   ]
  },
  {
   "cell_type": "code",
   "execution_count": null,
   "id": "4157bd08",
   "metadata": {},
   "outputs": [],
   "source": []
  }
 ],
 "metadata": {
  "kernelspec": {
   "display_name": "Python 3 (ipykernel)",
   "language": "python",
   "name": "python3"
  },
  "language_info": {
   "codemirror_mode": {
    "name": "ipython",
    "version": 3
   },
   "file_extension": ".py",
   "mimetype": "text/x-python",
   "name": "python",
   "nbconvert_exporter": "python",
   "pygments_lexer": "ipython3",
   "version": "3.9.12"
  }
 },
 "nbformat": 4,
 "nbformat_minor": 5
}
