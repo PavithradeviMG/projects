{
 "cells": [
  {
   "cell_type": "code",
   "execution_count": 1,
   "id": "e8cde44b",
   "metadata": {},
   "outputs": [],
   "source": [
    "import pandas as pd"
   ]
  },
  {
   "cell_type": "code",
   "execution_count": 2,
   "id": "e8586e2b",
   "metadata": {},
   "outputs": [],
   "source": [
    "(# read data stored in 'balance.txt' into adataframe\n",
    "df = pd.read_csv('balance.txt',delim_whitespace = True )"
   ]
  },
  {
   "cell_type": "code",
   "execution_count": 3,
   "id": "591a9dd8",
   "metadata": {},
   "outputs": [
    {
     "name": "stdout",
     "output_type": "stream",
     "text": [
      "The Average income of a female is: 44.85392753623185\n",
      "The Average income of a male is: 45.610316062176175\n"
     ]
    }
   ],
   "source": [
    "# notice how we can find the mean() function to find the average value.\n",
    "print(\"The Average income of a female is:\", df[df.Gender == 'Female'].loc[:,'Income'].mean())\n",
    "print(\"The Average income of a male is:\", df[df.Gender == 'Male'].loc[:,'Income'].mean())\n"
   ]
  },
  {
   "cell_type": "code",
   "execution_count": 4,
   "id": "769ca152",
   "metadata": {},
   "outputs": [
    {
     "name": "stdout",
     "output_type": "stream",
     "text": [
      "         Balance     Income        Limit      Rating     Cards        Age  \\\n",
      "Gender                                                                      \n",
      "Female  13.41401  44.853928  4756.516908  356.265700  2.927536  55.734300   \n",
      "Male    13.44544  45.610316  4713.165803  353.518135  2.989637  55.595855   \n",
      "\n",
      "        Education  \n",
      "Gender             \n",
      "Female  13.434783  \n",
      "Male    13.466321  \n"
     ]
    }
   ],
   "source": [
    "# notice how we use the groupby function\n",
    "print(df.groupby(['Gender']).mean(numeric_only = True))"
   ]
  },
  {
   "cell_type": "code",
   "execution_count": 5,
   "id": "89d8d9ba",
   "metadata": {},
   "outputs": [
    {
     "name": "stdout",
     "output_type": "stream",
     "text": [
      "The Average age of people in the dataset is: 55.6675\n"
     ]
    }
   ],
   "source": [
    "print('The Average age of people in the dataset is:',df.loc[:,'Age'].mean())"
   ]
  },
  {
   "cell_type": "markdown",
   "id": "24139f4c",
   "metadata": {},
   "source": [
    "Besides finding average (mean) values we can also find other descriptive statistics such as max and min values. Find more descriptive statistic methods in the pandas documentation."
   ]
  },
  {
   "cell_type": "code",
   "execution_count": 6,
   "id": "8ba2df2b",
   "metadata": {},
   "outputs": [
    {
     "name": "stdout",
     "output_type": "stream",
     "text": [
      "The youngest person in the dataset is: 23\n",
      "The oldest person in the dataset is: 98\n"
     ]
    }
   ],
   "source": [
    "print(\"The youngest person in the dataset is:\",df.loc[:,'Age'].min())\n",
    "print(\"The oldest person in the dataset is:\",df.loc[:,'Age'].max())"
   ]
  },
  {
   "cell_type": "code",
   "execution_count": null,
   "id": "2fa6fdbd",
   "metadata": {},
   "outputs": [],
   "source": []
  }
 ],
 "metadata": {
  "kernelspec": {
   "display_name": "Python 3 (ipykernel)",
   "language": "python",
   "name": "python3"
  },
  "language_info": {
   "codemirror_mode": {
    "name": "ipython",
    "version": 3
   },
   "file_extension": ".py",
   "mimetype": "text/x-python",
   "name": "python",
   "nbconvert_exporter": "python",
   "pygments_lexer": "ipython3",
   "version": "3.9.12"
  }
 },
 "nbformat": 4,
 "nbformat_minor": 5
}
